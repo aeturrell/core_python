{
 "cells": [
  {
   "cell_type": "markdown",
   "metadata": {},
   "source": [
    "# Empirical Project 5\n",
    "\n",
    "## Python-specific learning objectives\n",
    "\n",
    "In addition to the learning objectives for this project, in Part 5.1 you will learn how to use loops to repeat specified tasks for a list of values.\n",
    "\n",
    "## Getting started in Python\n",
    "\n",
    "TODO (list packages needed here)"
   ]
  },
  {
   "cell_type": "markdown",
   "metadata": {},
   "source": [
    "\n",
    "- Go to the Globalinc website and download the Excel file containing the data by clicking ‘xlsx’.\n",
    "- Save it in a subfolder of the directory you are coding in such that that the relative path is `data/GCIPrawdata.xlsx`.\n",
    "- Import the data into Python as explained in Python Walkthrough 5.1.\n",
    "\n",
    "## Python Walkthrough 5.1\n",
    "\n",
    "**Importing the Excel file (`.xlsx` or `.xls`) into Python**\n",
    "\n",
    "First, we need to import the packages and settings we'll be using:"
   ]
  },
  {
   "cell_type": "code",
   "execution_count": null,
   "metadata": {},
   "outputs": [],
   "source": [
    "import pandas as pd\n",
    "import matplotlib.pyplot as plt\n",
    "import numpy as np\n",
    "from plotnine import *\n",
    "import seaborn as sns\n",
    "from pathlib import Path\n",
    "import warnings\n",
    "\n",
    "# Set the plot style for prettier charts:\n",
    "plt.style.use(\n",
    "    \"https://github.com/aeturrell/coding-for-economists/raw/main/plot_style.txt\"\n",
    ")\n",
    "plt.rcParams[\"figure.figsize\"] = [6, 3]\n",
    "plt.rcParams[\"figure.dpi\"] = 150\n",
    "theme_set(theme_seaborn)\n",
    "\n",
    "# Ignore warnings to make nice output\n",
    "warnings.simplefilter(\"ignore\")"
   ]
  },
  {
   "cell_type": "markdown",
   "metadata": {},
   "source": [
    "As we are importing an Excel file, we use the `pd.read_excel` function from the **pandas** package. The file is called \"GCIPrawdata.xlsx\". Before you import the file into Python, open the datafile in Excel to understand its structure. You will see that the data is all in one worksheet (which is convenient), and that the headings for the variables are in the third row. Hence we will use the `skiprows=2` option in the `pd.read_excel` function to skip the first two rows.\n",
    "\n",
    "Now let's import the data using the `Path` module to create the path to the data, and look at the first few rows with `head()`:"
   ]
  },
  {
   "cell_type": "code",
   "execution_count": null,
   "metadata": {},
   "outputs": [],
   "source": [
    "df = pd.read_excel(Path(\"data/GCIPrawdata.xlsx\"), skiprows=2)\n",
    "df.head()"
   ]
  },
  {
   "cell_type": "markdown",
   "metadata": {},
   "source": [
    "The data is now in a pandas dataframe, which is the primary object for data analysis in Python. You can always tell the type of object you are dealing with in Python by running `type` on it:"
   ]
  },
  {
   "cell_type": "code",
   "execution_count": null,
   "metadata": {},
   "outputs": [],
   "source": [
    "type(df)"
   ]
  },
  {
   "cell_type": "markdown",
   "metadata": {},
   "source": [
    "In the data, each row represents a different country-year combination. The first row is for Afghanistan in 1980, and the first value (in the third column) is 206, for the variable Decile 1 Income. This value indicates that the mean annual income of the poorest 10% in Afghanistan was the equivalent of 206 USD (in 1980, adjusted using purchasing power parity). Looking at the next column, you can see that the mean income of the next richest 10% (those in the 11th to 20th percentiles for income) was 350.\n",
    "\n",
    "To see the list of variables, we use the `df.info()` method."
   ]
  },
  {
   "cell_type": "code",
   "execution_count": null,
   "metadata": {},
   "outputs": [],
   "source": [
    "df.info()"
   ]
  },
  {
   "cell_type": "markdown",
   "metadata": {},
   "source": [
    "In addition to the country, year, and the ten income deciles, we have mean income and the population."
   ]
  },
  {
   "cell_type": "markdown",
   "metadata": {},
   "source": [
    "## Python Walkthrough 5.2\n",
    "\n",
    "**Calculating cumulative shares using the `cumsum` function**\n",
    "\n",
    "Before we calculate cumulative income shares, we need to calculate the total income for each country-year combination using the mean income and the population size."
   ]
  },
  {
   "cell_type": "code",
   "execution_count": null,
   "metadata": {},
   "outputs": [],
   "source": [
    "df[\"total_income\"] = df[\"Mean Income\"]*df[\"Population\"]"
   ]
  },
  {
   "cell_type": "markdown",
   "metadata": {},
   "source": [
    "Here we have chosen China (a country that recently underwent enormous economic changes) and the US (a developed country). We use the `.loc` function to create a new dataset (called `xf`) containing only the countries and years we need."
   ]
  },
  {
   "cell_type": "code",
   "execution_count": null,
   "metadata": {},
   "outputs": [],
   "source": [
    "# Create lists for the years and countries we'd like\n",
    "sel_year = [1980, 2014]\n",
    "sel_country = [\"United States\", \"China\"]\n",
    "\n",
    "xf = df.loc[ (df[\"Year\"].isin(sel_year)) & (df[\"Country\"].isin(sel_country)), :]\n",
    "xf"
   ]
  },
  {
   "cell_type": "markdown",
   "metadata": {},
   "source": [
    "These numbers are very large, so for our purpose it is easier to assume that there is only one person in each decile, in other words the total income is 10 times the mean income. This simplification works because, by definition, each decile has exactly the same number of people (10% of the population).\n",
    "\n",
    "We will be using the very useful `cumsum` function (short for ‘cumulative sum’) to calculate the cumulative income. To see what this function does, look at this simple example."
   ]
  },
  {
   "cell_type": "code",
   "execution_count": null,
   "metadata": {},
   "outputs": [],
   "source": [
    "test_series = pd.Series([2, 4, 10, 22])\n",
    "test_series.cumsum()"
   ]
  },
  {
   "cell_type": "markdown",
   "metadata": {},
   "source": [
    "You can see that each number in the sequence is the sum of all the preceding numbers (including itself), for example, we got the third number, 16, by adding 2, 4, and 10. We now apply this function to calculate the cumulative income shares for China (1980) and save them as `cum_inc_share_c80`."
   ]
  },
  {
   "cell_type": "code",
   "execution_count": null,
   "metadata": {},
   "outputs": [],
   "source": [
    "query = (xf[\"Year\"] == 1980) & (xf[\"Country\"] == \"China\")\n",
    "decs_c80 = xf.loc[query, [x for x in xf.columns if \"Decile\" in x]]\n",
    "# Give the total income, assuming a population of 10\n",
    "total_inc = 10*xf.loc[query, \"Mean Income\"]\n",
    "cum_inc_share_c80 = decs_c80.cumsum() / total_inc.values[0]\n",
    "cum_inc_share_c80"
   ]
  },
  {
   "cell_type": "markdown",
   "metadata": {},
   "source": [
    "Now although this showed clearly exactly what we were doingfor China in 1980, what if we want to do it for all year-country combinations? We are able to that by defining a function:"
   ]
  },
  {
   "cell_type": "code",
   "execution_count": null,
   "metadata": {},
   "outputs": [],
   "source": [
    "def create_cumulative_income_shares(data, year, country):\n",
    "    query = (data[\"Year\"] == year) & (data[\"Country\"] == country)\n",
    "    decs = data.loc[query, [x for x in data.columns if \"Decile\" in x]]\n",
    "    # Give the total income, assuming a population of 10\n",
    "    total_inc = 10*data.loc[query, \"Mean Income\"]\n",
    "    cum_inc_share = decs.cumsum(axis=1) / total_inc.values[0]\n",
    "    cum_inc_share.index = [country + \", \" + str(year)]\n",
    "    cum_inc_share.columns = range(1, len(cum_inc_share.columns)+1)\n",
    "    return cum_inc_share\n"
   ]
  },
  {
   "cell_type": "markdown",
   "metadata": {},
   "source": [
    "Now we need to pass in all combinations of countries and years (this could be automated too, but it would only be worth it for many combinations so we'll just enter the different combinations manually):"
   ]
  },
  {
   "cell_type": "code",
   "execution_count": null,
   "metadata": {},
   "outputs": [],
   "source": [
    "cum_inc_share_c14 = create_cumulative_income_shares(xf, 2014, \"China\")\n",
    "cum_inc_share_us80 = create_cumulative_income_shares(xf, 1980, \"United States\")\n",
    "cum_inc_share_us14 = create_cumulative_income_shares(xf, 2014, \"United States\")\n",
    "cum_inc_share_c80 = create_cumulative_income_shares(xf, 1980, \"China\")"
   ]
  },
  {
   "cell_type": "markdown",
   "metadata": {},
   "source": [
    "## Python Walkthrough 5.3\n",
    "\n",
    "**Drawing Lorenz curves**\n",
    "\n",
    "Let us plot the cumulative income shares for China (1980), which we previously stored in the variable `cum_inc_share_c80`. We'll use the standard `fig, ax = plt.subplots` method of constructing an axis to plot the data on."
   ]
  },
  {
   "cell_type": "code",
   "execution_count": null,
   "metadata": {},
   "outputs": [],
   "source": [
    "fig, ax = plt.subplots()\n",
    "cum_inc_share_c80.T.plot(ax=ax)\n",
    "ax.plot(cum_inc_share_c80.columns, [x/10 for x in cum_inc_share_c80], color=\"k\")\n",
    "ax.set_ylim(0, 1)\n",
    "ax.set_xlim(1, 10)\n",
    "ax.legend([])\n",
    "ax.set_title(\"Lorenz curve, China, 1980\")\n",
    "ax.set_xlabel(\"Income Decile\")\n",
    "ax.set_ylabel(\"Cumulative income share\")\n",
    "plt.show();"
   ]
  },
  {
   "cell_type": "markdown",
   "metadata": {},
   "source": [
    "**Figure 5.1** Lorenz curve, China, 1980."
   ]
  },
  {
   "cell_type": "markdown",
   "metadata": {},
   "source": [
    "The blue line is the Lorenz curve. The Gini coefficient is the ratio of the area between the two lines and the total area under the black line. We will calculate the Gini coefficient in Python walkthrough 5.4.\n",
    "\n",
    "Now we add the other Lorenz curves to the chart using the lines function. We use the col= option to specify a different colour for each line, and the lty option to make the line pattern solid for 2014 data and dashed for 1980 data. Finally, we use the legend function to add a chart legend in the top left corner of the chart."
   ]
  },
  {
   "cell_type": "code",
   "execution_count": null,
   "metadata": {},
   "outputs": [],
   "source": [
    "fig, ax = plt.subplots()\n",
    "for line, style in zip([cum_inc_share_c80, cum_inc_share_us80, cum_inc_share_us14, cum_inc_share_c14], [\"-\", \"-.\", \"dashed\", \":\"]):\n",
    "    line.T.plot(ax=ax, linestyle=style)\n",
    "ax.plot(cum_inc_share_c80.columns, [x/10 for x in cum_inc_share_c80], color=\"k\")\n",
    "ax.set_ylim(0, 1)\n",
    "ax.set_xlim(1, 10)\n",
    "ax.set_title(\"Lorenz curves, China and the US (1980 and 2014)\")\n",
    "ax.set_xlabel(\"Income Decile\")\n",
    "ax.set_ylabel(\"Cumulative income share\")\n",
    "plt.show();"
   ]
  },
  {
   "cell_type": "markdown",
   "metadata": {},
   "source": [
    "**Figure 5.2** Lorenz curves, China and the US (1980 and 2014).\n",
    "\n",
    "As the chart shows, the income distribution has changed more clearly for China (from the blue to the green line) than for the US (from the orange to the red line)."
   ]
  }
 ],
 "metadata": {
  "interpreter": {
   "hash": "13950ff975ea58bb356510d0d8f98cdd1bd1f12bd4ccce66a17a21f4f1a23379"
  },
  "kernelspec": {
   "display_name": "Python 3.9.7 64-bit ('core-python-wDU3726x-py3.9': poetry)",
   "name": "python3"
  },
  "language_info": {
   "codemirror_mode": {
    "name": "ipython",
    "version": 3
   },
   "file_extension": ".py",
   "mimetype": "text/x-python",
   "name": "python",
   "nbconvert_exporter": "python",
   "pygments_lexer": "ipython3",
   "version": "3.9.7"
  }
 },
 "nbformat": 4,
 "nbformat_minor": 2
}
