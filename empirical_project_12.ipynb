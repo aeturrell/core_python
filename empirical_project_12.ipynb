{
 "cells": [
  {
   "attachments": {},
   "cell_type": "markdown",
   "metadata": {},
   "source": [
    "# Empirical Project 12\n",
    "\n",
    "---\n",
    "**Download the code**\n",
    "\n",
    "To download the code used in this project as a notebook that can be run in Visual Studio Code, Google Colab, or Jupyter Notebook, right click [here]() and select 'Save Link As', then save it as a `.ipynb` file.\n",
    "\n",
    "Don’t forget to also download the data into your working directory by following the steps in this project.\n",
    "\n",
    "---\n",
    "\n",
    "## Getting started in Python\n",
    "\n",
    "For this project, you will need the following packages:\n",
    "\n",
    "- **pandas**\n",
    "- **pingouin**\n",
    "- **matplotlib**\n",
    "- **seaborn**\n",
    "- **numpy**\n",
    "\n",
    "You'll also be using the **warnings** and **pathlib** packages, but these come built-in with Python.\n",
    "\n",
    "Remember, you can install packages in Visual Studio Code's integrated terminal (click \"View > Terminal\") by running `conda install packagename` (if using the Anaconda distribution of Python) or `pip install packagename` if not.\n",
    "\n",
    "Once you have the Python packages installed, you will need to import them into your Python session—and configure any other initial settings."
   ]
  },
  {
   "cell_type": "code",
   "execution_count": null,
   "metadata": {},
   "outputs": [],
   "source": [
    "import pandas as pd\n",
    "import matplotlib.pyplot as plt\n",
    "import numpy as np\n",
    "from pathlib import Path\n",
    "import warnings\n",
    "import matplotlib_inline.backend_inline\n",
    "\n",
    "# Set the plot style for prettier charts:\n",
    "plt.style.use(\"plot_style.txt\")\n",
    "# Make output charts in 'svg' format\n",
    "matplotlib_inline.backend_inline.set_matplotlib_formats(\"svg\")\n",
    "\n",
    "# Ignore warnings to make nice output\n",
    "warnings.simplefilter(\"ignore\")"
   ]
  },
  {
   "attachments": {},
   "cell_type": "markdown",
   "metadata": {},
   "source": [
    "## Python Walkthrough 12.1\n",
    "\n",
    "**Importing a specified range of data from a spreadsheet**\n",
    "\n",
    "We start by importing the data; you will need to download it and put it in a subfolder of your working directory called \"data\". The data provided in the Excel spreadsheet is not in the usual format of one variable per column (known as ‘long’ format). Instead the first tab contains two separate tables, and we need the second table. We can therefore use the `skiprows=` keyword argument of **pandas**' `pd.read_excel` function to specify the cells in the spreadsheet to import (note that variable headers for the years are included)."
   ]
  },
  {
   "cell_type": "code",
   "execution_count": null,
   "metadata": {},
   "outputs": [],
   "source": [
    "income = pd.read_excel(\n",
    "    Path(\"data/doing-economics-project-12-datafile.xlsx\"), skiprows=12\n",
    ")\n",
    "\n",
    "income"
   ]
  },
  {
   "attachments": {},
   "cell_type": "markdown",
   "metadata": {},
   "source": [
    "This still has some rows that we don't want in, so we need to get rid of them. There are multiple ways to do this depending on the context.\n",
    "\n",
    "In this case, we have two columns we don't want that have a large number of invalid entries in, so we can make use of the row-wise `.dropna()` method to clean up the data. While we're at it, let's rename the first column to something more sensible."
   ]
  },
  {
   "cell_type": "code",
   "execution_count": null,
   "metadata": {},
   "outputs": [],
   "source": [
    "income = income.dropna(axis=0).rename(columns={\"Unnamed: 0\": \"Percentile\"})\n",
    "income"
   ]
  },
  {
   "attachments": {},
   "cell_type": "markdown",
   "metadata": {},
   "source": [
    "It would be good to have a quick plot of this data. We'll need to re-orient if we want to make use of the **seaborn** plotting package (as this expects long-format data)."
   ]
  },
  {
   "cell_type": "code",
   "execution_count": null,
   "metadata": {},
   "outputs": [],
   "source": [
    "pd.melt(income, id_vars=\"Percentile\", value_vars=range(2009, 2016), var_name=\"Year\")"
   ]
  },
  {
   "cell_type": "code",
   "execution_count": null,
   "metadata": {},
   "outputs": [],
   "source": [
    "import seaborn.objects as so\n",
    "\n",
    "(\n",
    "    so.Plot(\n",
    "        pd.melt(\n",
    "            income, id_vars=\"Percentile\", value_vars=range(2009, 2016), var_name=\"Year\"\n",
    "        ),\n",
    "        x=\"Year\",\n",
    "        y=\"value\",\n",
    "        color=\"Percentile\",\n",
    "    )\n",
    "    .add(so.Line(linewidth=3))\n",
    "    .label(y=\"Monthly real household income (HKD)\")\n",
    ")"
   ]
  },
  {
   "attachments": {},
   "cell_type": "markdown",
   "metadata": {},
   "source": [
    "**Figure 12.1 Monthly real household income over time.**"
   ]
  },
  {
   "attachments": {},
   "cell_type": "markdown",
   "metadata": {},
   "source": [
    "However, plotting all percentile groups using the same scale hides a lot of variation within each percentile group. So, we should create a separate chart for each percentile group. As an example, we will plot the chart for the 15th percentile.\n",
    "\n",
    "First, we use the `pd.melt` function to reshape the data into the format that **seaborn** uses to plot charts. Then we use the `.loc` function to select data for the 15th percentile only. Finally, we can make the line chart as before."
   ]
  },
  {
   "cell_type": "code",
   "execution_count": null,
   "metadata": {},
   "outputs": [],
   "source": [
    "income_long = pd.melt(\n",
    "    income, id_vars=\"Percentile\", value_vars=range(2009, 2016), var_name=\"Year\"\n",
    ")\n",
    "\n",
    "perct_to_use = \"15th\"\n",
    "\n",
    "(\n",
    "    so.Plot(\n",
    "        income_long.loc[income_long[\"Percentile\"] == perct_to_use, :],\n",
    "        x=\"Year\",\n",
    "        y=\"value\",\n",
    "    )\n",
    "    .add(so.Line())\n",
    "    .add(so.Dot())\n",
    "    .label(y=f\"Monthly real household income for {perct_to_use} percentile\")\n",
    ")"
   ]
  },
  {
   "attachments": {},
   "cell_type": "markdown",
   "metadata": {},
   "source": [
    "**Figure 12.2 Monthly real household income for 15th percentile.**"
   ]
  },
  {
   "attachments": {},
   "cell_type": "markdown",
   "metadata": {},
   "source": [
    "## Python Walkthrough 12.2\n",
    "\n",
    "**Calculating cumulative income shares and plotting a Lorenz curve**"
   ]
  },
  {
   "attachments": {},
   "cell_type": "markdown",
   "metadata": {},
   "source": [
    "Questions 2(a)–(c) can be completed in one stage by method chaining, although there are a number of steps.\n",
    "\n",
    "First, we use the `.loc` method to get the relevant variables. Then, for the next step in the chain, we remove the ‘th’ suffix in the percentile column values using `.str.split(\"th\", expand=True)[0]` to split all the strings, expand the resulting list into two columns and, with `[0]`, only takes the first part (before the \"th\"). This is cast to an integer type.\n",
    "\n",
    "In the next step, we append on three zeros as the zeroth percentile entries for 2011 and 2012 (`.append`) followed by a sorting by percentile.\n",
    "\n",
    "We then do a number of operations on columns using `.assign`:\n",
    "\n",
    "- adding a column representing the number of households in each percentile group (assuming 100 households in the economy)\n",
    "- a new variable called `handout_2012` that adds $6,000 to each value for the year 2012\n",
    "- the economy-wide income for each percentile group, derived from multiplying the income values by the number of households and storing these in the variables `income_2011` and `income_2012`\n",
    "- then we need the normalised cumulative income for each group\n",
    "\n",
    "Finally we tidy up the data by ensuring that the 0th percentile has no share of the income and the 100th percentile has 100% of the cumulative income. We do this by adding a row of zero `.append` at the start `.sort_values`"
   ]
  },
  {
   "cell_type": "code",
   "execution_count": null,
   "metadata": {},
   "outputs": [],
   "source": [
    "cols_of_interest = [\"Percentile\", 2011, 2012]\n",
    "\n",
    "income_shares = (\n",
    "    income.loc[:, cols_of_interest]\n",
    "    .assign(\n",
    "        Percentile=lambda x: x[\"Percentile\"]\n",
    "        .str.split(\"th\", expand=True)[0]\n",
    "        .astype(\"int\")\n",
    "    )\n",
    "    .append(pd.DataFrame([[0, 0, 0]], columns=cols_of_interest, index=[5]))\n",
    "    .sort_values(by=\"Percentile\")\n",
    "    .assign(\n",
    "        households=[15, 10, 25, 25, 10, 15],\n",
    "        handout_2012=lambda x: x[2012] + 6000,\n",
    "        income_2011=lambda x: x[2011] * x[\"households\"],\n",
    "        income_2012=lambda x: x[\"handout_2012\"] * x[\"households\"],\n",
    "        rel_share_2011=lambda x: 100\n",
    "        * x[\"income_2011\"].cumsum()\n",
    "        / x[\"income_2011\"].sum(),\n",
    "        rel_share_2012=lambda x: 100\n",
    "        * x[\"income_2012\"].cumsum()\n",
    "        / x[\"income_2012\"].sum(),\n",
    "        Percentile=lambda x: x[\"households\"] + x[\"Percentile\"],\n",
    "    )\n",
    "    .loc[:, [\"Percentile\", \"rel_share_2011\", \"rel_share_2012\"]]\n",
    "    .append(\n",
    "        pd.DataFrame(\n",
    "            [[0, 0, 0]],\n",
    "            columns=[\"Percentile\", \"rel_share_2011\", \"rel_share_2012\"],\n",
    "            index=[6],\n",
    "        )\n",
    "    )\n",
    "    .sort_values(by=\"Percentile\")\n",
    ")\n",
    "\n",
    "income_shares.round(2)"
   ]
  },
  {
   "attachments": {},
   "cell_type": "markdown",
   "metadata": {},
   "source": [
    "Using the data from Questions 2(a)–(c) we can plot the Lorenz curve using the **seaborn** package. Note that we use the `Percentile` variable to draw the line of perfect equality.\n",
    "\n",
    "We will need to have data in long format for this, so do a melt,"
   ]
  },
  {
   "cell_type": "code",
   "execution_count": null,
   "metadata": {},
   "outputs": [],
   "source": [
    "fig, ax = plt.subplots()\n",
    "\n",
    "long_incomes_shares = pd.melt(\n",
    "    income_shares,\n",
    "    id_vars=\"Percentile\",\n",
    "    var_name=\"year\",\n",
    "    value_name=\"Cumulative share of income, %\",\n",
    ")\n",
    "\n",
    "p1 = (\n",
    "    so.Plot(\n",
    "        long_incomes_shares,\n",
    "        x=\"Percentile\",\n",
    "        y=\"Cumulative share of income, %\",\n",
    "        color=\"year\",\n",
    "    )\n",
    "    .add(so.Line())\n",
    "    .add(so.Dot())\n",
    "    .label(x=\"Cumulative share of population\")\n",
    ")\n",
    "\n",
    "ax.plot(\n",
    "    long_incomes_shares[\"Percentile\"],\n",
    "    long_incomes_shares[\"Percentile\"],\n",
    "    linewidth=1.5,\n",
    "    alpha=0.5,\n",
    "    linestyle=\":\",\n",
    "    color=\"grey\",\n",
    ")\n",
    "p1.on(ax).show()"
   ]
  }
 ],
 "metadata": {
  "kernelspec": {
   "display_name": "Python 3.8.8 ('.venv': poetry)",
   "language": "python",
   "name": "python3"
  },
  "language_info": {
   "codemirror_mode": {
    "name": "ipython",
    "version": 3
   },
   "file_extension": ".py",
   "mimetype": "text/x-python",
   "name": "python",
   "nbconvert_exporter": "python",
   "pygments_lexer": "ipython3",
   "version": "3.8.8"
  },
  "vscode": {
   "interpreter": {
    "hash": "26c4b888616894cf8360ee3d370b6a41732ef00c8f1d61e869c42a8428cf1ac1"
   }
  }
 },
 "nbformat": 4,
 "nbformat_minor": 2
}
