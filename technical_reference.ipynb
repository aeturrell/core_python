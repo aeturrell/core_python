{
 "cells": [
  {
   "cell_type": "markdown",
   "metadata": {},
   "source": [
    "# Technical reference\n",
    "\n",
    "## Python versions\n",
    "\n",
    "The Python walkthroughs were created with Visual Studio Code version 1.61.2, and Python and Operating System versions:"
   ]
  },
  {
   "cell_type": "code",
   "execution_count": null,
   "metadata": {},
   "outputs": [],
   "source": [
    "%load_ext watermark\n",
    "%watermark"
   ]
  },
  {
   "cell_type": "markdown",
   "metadata": {},
   "source": [
    "The versions of Python packages used are:"
   ]
  },
  {
   "cell_type": "code",
   "execution_count": null,
   "metadata": {},
   "outputs": [],
   "source": [
    "import toml\n",
    "\n",
    "toml_file = toml.load('pyproject.toml')\n",
    "pgks = toml_file[\"tool\"][\"poetry\"][\"dependencies\"]\n",
    "del pgks[\"python\"]\n",
    "pgks"
   ]
  },
  {
   "cell_type": "markdown",
   "metadata": {},
   "source": [
    "If you are just getting going with Python, this [short tutorial](https://code.visualstudio.com/docs/python/python-tutorial) on setting up Python and Visual Studio Code from Microsoft is a good place to start (ignore the bits about debugging). For Python support specific to economists (including on how to setup Python on your computer), see the free online book [Coding for Economists](https://aeturrell.github.io/coding-for-economists). If you don't want to install Python locally, you can use [Google Colab](https://colab.research.google.com/)—a free, online Python service—instead."
   ]
  }
 ],
 "metadata": {
  "interpreter": {
   "hash": "13950ff975ea58bb356510d0d8f98cdd1bd1f12bd4ccce66a17a21f4f1a23379"
  },
  "kernelspec": {
   "display_name": "Python 3.9.7 64-bit ('core-python-wDU3726x-py3.9': poetry)",
   "name": "python3"
  },
  "language_info": {
   "codemirror_mode": {
    "name": "ipython",
    "version": 3
   },
   "file_extension": ".py",
   "mimetype": "text/x-python",
   "name": "python",
   "nbconvert_exporter": "python",
   "pygments_lexer": "ipython3",
   "version": "3.9.7"
  }
 },
 "nbformat": 4,
 "nbformat_minor": 2
}
