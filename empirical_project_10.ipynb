{
 "cells": [
  {
   "attachments": {},
   "cell_type": "markdown",
   "metadata": {},
   "source": [
    "# Empirical Project 10\n",
    "\n",
    "---\n",
    "**Download the code**\n",
    "\n",
    "To download the code used in this project as a notebook that can be run in Visual Studio Code, Google Colab, or Jupyter Notebook, right click [here]() and select 'Save Link As', then save it as a `.ipynb` file.\n",
    "\n",
    "Don’t forget to also download the data into your working directory by following the steps in this project.\n",
    "\n",
    "---\n",
    "\n",
    "## Getting started in Python\n",
    "\n",
    "For this project, you will need the following packages:\n",
    "\n",
    "- [todo]\n",
    "\n",
    "You'll also be using the **warnings** and **pathlib** packages, but these come built-in with Python.\n",
    "\n",
    "Remember, you can install packages in Visual Studio Code's integrated terminal (click \"View > Terminal\") by running `conda install packagename` (if using the Anaconda distribution of Python) or `pip install packagename` if not.\n",
    "\n",
    "Once you have the Python packages installed, you will need to import them into your Python session—and configure any other initial settings."
   ]
  },
  {
   "cell_type": "code",
   "execution_count": null,
   "metadata": {},
   "outputs": [],
   "source": [
    "import pandas as pd\n",
    "import matplotlib.pyplot as plt\n",
    "import numpy as np\n",
    "from pathlib import Path\n",
    "import warnings\n",
    "import matplotlib_inline.backend_inline\n",
    "\n",
    "# Set the plot style for prettier charts:\n",
    "plt.style.use(\"plot_style.txt\")\n",
    "# Make output charts in 'svg' format\n",
    "matplotlib_inline.backend_inline.set_matplotlib_formats(\"svg\")\n",
    "\n",
    "# Ignore warnings to make nice output\n",
    "warnings.simplefilter(\"ignore\")"
   ]
  },
  {
   "attachments": {},
   "cell_type": "markdown",
   "metadata": {},
   "source": [
    "## Python Walkthrough 10.1\n",
    "\n",
    "**Importing an Excel spreadsheet into Python**\n",
    "\n",
    "Before loading an Excel spreadsheet into Python, it can be helpful to open it in Excel to understand the structure of the spreadsheet and the data it contains. In this case we can see that detailed descriptions of all variables are in the first tab ('Definitions and Sources'). Make sure to read the definitions for the indicators listed in Figure 10.1.\n",
    "\n",
    "The spreadsheet contains a number of other worksheets, but the data that we need is in the tab called 'Data – June 2016'. You can see that the variable names are all in the first row and missing values are simply empty cells. We can therefore proceed to import the data into Python using the `pd.read_excel` function without any additional options.\n",
    "\n",
    "We're going to assume here that you've donwloaded the Excel file as \"GlobalFinancialDevelopmentDatabaseJune2017.xlsx\", and saved it in a subfolder of your working directory called \"data\"."
   ]
  },
  {
   "cell_type": "code",
   "execution_count": null,
   "metadata": {},
   "outputs": [],
   "source": [
    "gfdd = pd.read_excel(\n",
    "    Path(\"data/GlobalFinancialDevelopmentDatabaseJune2017.xlsx\"),\n",
    "    sheet_name=\"Data - June 2016\",\n",
    ")\n",
    "gfdd.head()"
   ]
  },
  {
   "attachments": {},
   "cell_type": "markdown",
   "metadata": {},
   "source": [
    "## Python Walkthrough 10.2\n",
    "\n",
    "**Making box and whisker plots**\n",
    "\n",
    "Box and whisker plots were introduced in Empirical Project 6. We can use the same process here, after ensuring that the data is in the correct format.\n",
    "\n",
    "Some plotting libraries expects data like we have ingested to be in ‘long’ (aka tidy) format (where each row is a value for a single variable and year), whereas our data is in ‘wide’ format (each row contains a single variable but multiple years). We transform the data from wide to long format using the\n",
    "\n",
    "So for the Depth indicators:"
   ]
  },
  {
   "cell_type": "code",
   "execution_count": null,
   "metadata": {},
   "outputs": [],
   "source": [
    "# for convenience, create a list of the indicators we're interested in:\n",
    "indicators = [\"private_credit\", \"bank_assets\"]\n",
    "\n",
    "# Rename the variables we'll be plotting\n",
    "gfdd_new_names = gfdd.rename(\n",
    "    columns={\"GFDD.DI.01\": indicators[0], \"GFDD.DI.02\": indicators[1]}\n",
    ")\n",
    "\n",
    "# create a long or \"tidy\" version of the data & drop invalid values\n",
    "gfdd_long = gfdd_new_names.melt(\n",
    "    id_vars=[\"Country\", \"Year\"], value_vars=indicators, var_name=\"indicator\"\n",
    ").dropna()\n",
    "gfdd_long"
   ]
  },
  {
   "attachments": {},
   "cell_type": "markdown",
   "metadata": {},
   "source": [
    "Now we can plot it, which we'll do using the **seaborn** package:"
   ]
  },
  {
   "cell_type": "code",
   "execution_count": null,
   "metadata": {},
   "outputs": [],
   "source": [
    "import seaborn as sns\n",
    "\n",
    "sns.boxplot(data=gfdd_long, x=\"indicator\", y=\"value\");"
   ]
  },
  {
   "attachments": {},
   "cell_type": "markdown",
   "metadata": {},
   "source": [
    "**Figure 10.2 Box and whisker plot for ‘Private credit by deposit money banks to GDP (%)’ (`private_credit`) and ‘Deposit money banks’ assets to GDP (%)’ (`bank_assets`).**"
   ]
  },
  {
   "attachments": {},
   "cell_type": "markdown",
   "metadata": {},
   "source": [
    "We could repeat the process for each topic and plot all indicators together. However, the range for the `GFDD.AI.01` variable (Bank accounts per 1,000 adults) is far larger than the other variables in this group, so it makes sense to plot this separately. We use the same process as before, as shown below."
   ]
  },
  {
   "cell_type": "code",
   "execution_count": null,
   "metadata": {},
   "outputs": [],
   "source": [
    "# for convenience, create a list of the indicators we're interested in:\n",
    "indicators_big = [\"bank_accounts\"]\n",
    "\n",
    "# Rename the variables we'll be plotting\n",
    "gfdd_new_names = gfdd.rename(columns={\"GFDD.AI.01\": indicators_big[0]})\n",
    "\n",
    "# create a long or \"tidy\" version of the data & drop invalid values\n",
    "gfdd_long = gfdd_new_names.melt(\n",
    "    id_vars=[\"Country\", \"Year\"], value_vars=indicators_big, var_name=\"indicator\"\n",
    ").dropna()\n",
    "sns.boxplot(data=gfdd_long, x=\"indicator\", y=\"value\");"
   ]
  },
  {
   "attachments": {},
   "cell_type": "markdown",
   "metadata": {},
   "source": [
    "Now we'd like to do this for a bunch more cases. A key principle of coding is 'DRY: Don't Repeat Yourself'. We shouldn't have to type this out multiple times, and it's more likely that something could go wrong if we do that. Instead, we're going to list all of the indicators in one go:"
   ]
  },
  {
   "cell_type": "code",
   "execution_count": null,
   "metadata": {},
   "outputs": [],
   "source": [
    "# for convenience, create a list of the indicators we're interested in:\n",
    "indicators = [\n",
    "    \"private_credit\",\n",
    "    \"bank_assets\",\n",
    "    \"bank_branches\",\n",
    "    \"firms_credit\",\n",
    "    \"small_firms_credit\",\n",
    "]\n",
    "\n",
    "# dictionary mapping old names to new names\n",
    "old_names = [\"GFDD.DI.01\", \"GFDD.DI.02\", \"GFDD.AI.01\", \"GFDD.AI.03\", \"GFDD.AI.04\"]\n",
    "dict_of_new_names = {k: w for k, w in zip(old_names, indicators)}\n",
    "\n",
    "# Rename the variables we'll be plotting\n",
    "gfdd_new_names = gfdd.rename(columns=dict_of_new_names)\n",
    "\n",
    "# create a long or \"tidy\" version of the data & drop invalid values\n",
    "gfdd_long = gfdd_new_names.melt(\n",
    "    id_vars=[\"Country\", \"Year\"], value_vars=indicators, var_name=\"indicator\"\n",
    ").dropna()\n",
    "\n",
    "# put all of our indicators of interest into a box plot\n",
    "fig, ax = plt.subplots()\n",
    "sns.boxplot(data=gfdd_long, y=\"indicator\", x=\"value\", ax=ax)\n",
    "ax.set_xlim(0, 1e3);"
   ]
  },
  {
   "attachments": {},
   "cell_type": "markdown",
   "metadata": {},
   "source": [
    "**Figure 10.4 Box and whisker plot for our indicators of interest**"
   ]
  },
  {
   "attachments": {},
   "cell_type": "markdown",
   "metadata": {},
   "source": [
    "You can repeat the process for the indicators on bank stability by copying the above code and adding indicator variable names accordingly."
   ]
  },
  {
   "attachments": {},
   "cell_type": "markdown",
   "metadata": {},
   "source": [
    "## Python Walkthrough 10.3\n",
    "\n",
    "**Tabulating and visualizing time trends**\n",
    "\n",
    "In this walk-through we will use the indicators for ‘Deposit money banks’ assets to GDP (%)’ and ‘Bank accounts per 1,000 adults’ as examples (`bank_assets` and `bank_accounts` respectively).\n",
    "\n",
    "Obtaining the average indicator value for each year and region is straightforward using the `group_by` and `agg` functions, but again we have to select the relevant years (using `.query`) and remove any observations that have a missing value for the indicator being analysed (using `dropna`). We save the final output as `deposit_region`.\n"
   ]
  },
  {
   "cell_type": "code",
   "execution_count": null,
   "metadata": {},
   "outputs": [],
   "source": [
    "deposit_region = (\n",
    "    gfdd.rename(columns=dict_of_new_names)\n",
    "    .query(\"Year > 1999 & Year < 2015\")\n",
    "    .dropna(subset=[\"bank_assets\"])\n",
    "    .groupby([\"Year\", \"Region\"])[\"bank_assets\"]\n",
    "    .agg([\"mean\", \"count\"])\n",
    ")\n",
    "deposit_region"
   ]
  },
  {
   "attachments": {},
   "cell_type": "markdown",
   "metadata": {},
   "source": [
    "At this stage the summary data is stored in long format. This format is useful for plotting the data, but to produce the required table (with `Region` as the column variable and `Year` as the row variable), we need to reshape the data into wide format. While we previously used `melt` to move from wide to long, we can use the `pivot` function to achieve the opposite and transform the data from long to wide.\n",
    "\n",
    "There is a short-cut to `pivot` though: if we only wish to move one variable from a row to a column (and it is part of the index), we can simply use the `.unstack` method:"
   ]
  },
  {
   "cell_type": "code",
   "execution_count": null,
   "metadata": {},
   "outputs": [],
   "source": [
    "deposit_region.unstack()"
   ]
  },
  {
   "attachments": {},
   "cell_type": "markdown",
   "metadata": {},
   "source": [
    "Note how we get two sub-tables: one for mean, and one for count.\n",
    "\n",
    "At this point you could just print or view the data, however using one of many **pandas** export functions produces output that is visually easier to read and can be copied and pasted into your analysis document. Here are some examples with just the first few rows and just the first few columns:"
   ]
  },
  {
   "cell_type": "code",
   "execution_count": null,
   "metadata": {},
   "outputs": [],
   "source": [
    "# to markdown, the popular text format\n",
    "print(deposit_region.iloc[:5, :3].to_markdown())"
   ]
  },
  {
   "cell_type": "code",
   "execution_count": null,
   "metadata": {},
   "outputs": [],
   "source": [
    "# to latex, for writing papers\n",
    "print(deposit_region.iloc[:5, :3].to_latex())"
   ]
  },
  {
   "cell_type": "code",
   "execution_count": null,
   "metadata": {},
   "outputs": [],
   "source": [
    "# to html, for the web\n",
    "print(deposit_region.iloc[:5, :3].to_html())"
   ]
  },
  {
   "attachments": {},
   "cell_type": "markdown",
   "metadata": {},
   "source": [
    "We can use **seaborn** to plot a line chart using the long format data (`deposit_region`), with year on the horizontal axis. We specify `color = \"Region\"`."
   ]
  },
  {
   "cell_type": "code",
   "execution_count": null,
   "metadata": {},
   "outputs": [],
   "source": [
    "import seaborn.objects as so\n",
    "\n",
    "(\n",
    "    so.Plot(deposit_region, x=\"Year\", y=\"mean\", color=\"Region\")\n",
    "    .add(so.Line(linewidth=2))\n",
    "    .label(\n",
    "        y=\"Mean deposit, % of GDP\",\n",
    "        title=\"Deposit money banks' assets to GDP (%), 2000-2014, by region\",\n",
    "    )\n",
    ")"
   ]
  },
  {
   "attachments": {},
   "cell_type": "markdown",
   "metadata": {},
   "source": [
    "**Figure 10.5 Line chart of ‘Deposit money banks’ assets to GDP (%)’, 2000–2014, by region.**"
   ]
  },
  {
   "attachments": {},
   "cell_type": "markdown",
   "metadata": {},
   "source": [
    "The process can be repeated for income group rather than region."
   ]
  },
  {
   "cell_type": "code",
   "execution_count": null,
   "metadata": {},
   "outputs": [],
   "source": [
    "deposit_income = (\n",
    "    gfdd_new_names.query(\"Year > 1999\")\n",
    "    .dropna(subset=[\"bank_assets\"])\n",
    "    .groupby([\"Year\", \"Income Group\"])[\"bank_assets\"]\n",
    "    .agg([\"mean\", \"count\"])\n",
    ")\n",
    "\n",
    "(\n",
    "    so.Plot(deposit_income, x=\"Year\", y=\"mean\", color=\"Income Group\")\n",
    "    .add(so.Line(linewidth=2))\n",
    "    .label(\n",
    "        y=\"Mean deposit, % of GDP\",\n",
    "        title=\"Deposit money banks' assets to GDP (%), 2000-2014, by income group\",\n",
    "    )\n",
    ")"
   ]
  },
  {
   "attachments": {},
   "cell_type": "markdown",
   "metadata": {},
   "source": [
    "**Figure 10.6 Line chart of ‘Deposit money banks’ assets to GDP (%)’, 2000–2014, by income group.**"
   ]
  },
  {
   "attachments": {},
   "cell_type": "markdown",
   "metadata": {},
   "source": [
    "You can repeat the process for the indicator 'Bank accounts per 1,000 adults' by replacing the variable name `bank_assets` with `bank_accounts` in the above code, again by region and then by income group."
   ]
  }
 ],
 "metadata": {
  "kernelspec": {
   "display_name": "Python 3.8.8 ('.venv': poetry)",
   "language": "python",
   "name": "python3"
  },
  "language_info": {
   "codemirror_mode": {
    "name": "ipython",
    "version": 3
   },
   "file_extension": ".py",
   "mimetype": "text/x-python",
   "name": "python",
   "nbconvert_exporter": "python",
   "pygments_lexer": "ipython3",
   "version": "3.8.8 (default, Apr 13 2021, 12:59:45) \n[Clang 10.0.0 ]"
  },
  "vscode": {
   "interpreter": {
    "hash": "26c4b888616894cf8360ee3d370b6a41732ef00c8f1d61e869c42a8428cf1ac1"
   }
  }
 },
 "nbformat": 4,
 "nbformat_minor": 2
}
