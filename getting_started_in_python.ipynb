{
 "cells": [
  {
   "attachments": {},
   "cell_type": "markdown",
   "metadata": {},
   "source": [
    "# Getting Started in Python"
   ]
  },
  {
   "cell_type": "markdown",
   "metadata": {},
   "source": [
    "Congratulations on starting your coding and economics journey! In this introductory chapter, we’re going to help you install or access the tools you need. This chapter is unlikely to be as fun as subsequent ones, but we recommend you read and follow it because it’s key to being able to run code. First, we’re going to give you some background on key concepts for coding. Then, we’ll give you an option to either follow instructions to start coding on your own computer or use a popular online cloud service for coding. Either way, by the end of this chapter, you will be running code.\n",
    "\n",
    "Remember that all of the code in this book is available online on Github too: you can find it at [Core Python](https://github.com/aeturrell/core_python)."
   ]
  },
  {
   "attachments": {},
   "cell_type": "markdown",
   "metadata": {},
   "source": [
    "## Python and programming languages\n",
    "\n",
    "Programming languages are a way to issue explicit instructions to a computer to perform operations—here, the operations will all be about doing economics!\n",
    "\n",
    "This version of *Doing Economics* uses a programming language called Python. Python usually ranks as the first or second most popular programming language in the world and is also considered to be one of the easiest to learn. It's a general purpose programming language, which means it can perform a wide range of tasks. This combination of being relatively easy to learn but extendable to many applications is why people say Python has a \"low floor and a high ceiling\". As a language, it is widely used across industry, academia, and the public sector, and is frequently taught in schools. It has been applied to create the [first image of a black hole](https://numpy.org/case-studies/blackhole-image/), perform [economic analysis](https://aeturrell.github.io/coding-for-economists), and it is [behind the large language models](https://github.com/openai/gpt-2) (like ChatGPT) that are revolutionising how we think about AI.\n",
    "\n",
    "Programming languages come in versions and, at the time of writing, Python 3.11 was the most recent version released. But the \"base\" language isn't the only thing you'll need: some of the most important functionality of programming languages is provided by add-ons called packages or libraries, which themselves have versions.\n",
    "\n",
    "The combination of the language and its version (eg Python 3.9), the packages and their versions (eg numpy 1.24), and the operating system the code is being run on (eg MacOS Catalina) is called the computational environment.\n",
    "\n",
    "## Preliminaries for doing economics with Python\n",
    "\n",
    "### Useful concepts\n",
    "\n",
    "To do economics using Python, you will need three things on your computer or on a cloud computer. For now, we're just going to tell you what they are and what they do—we'll come to how to get them shortly.\n",
    "\n",
    "- an installation (or \"distribution\") of the programming language, also known as an \"interpreter\". Python is both a programming language that you can read, and a language that computers can read, interpret, and then carry out instructions based on. For a computer to be able to read and execute Python code, you will need to get a Python interpreter installed on it. There are lots of ways to install a Python “interpreter” on your own computer, this book recommends the Anaconda distribution of Python for its flexibility and simplicity.\n",
    "\n",
    "- an integrated development environment (IDE). This is where you write those instructions that are then executed by the interpreter. The most important of these is a way to write the code itself! IDEs are not the only way to programme, but they are perhaps the most useful. There are a lot of integrated development environments (IDEs) out there. This book strongly recommends Microsoft’s Visual Studio Code, which works on all major operating systems and is one of the most popular. Here are some of the useful features that Visual Studio Code provides:\n",
    "  - a way to run your code interactively (line-by-line) or all at once\n",
    "  - a way to debug (look for errors) in your code\n",
    "  - a quick way to access helpful information about commonly used software packages\n",
    "  - automatic code formatting, so that your code follows best practice guidelines\n",
    "  - auto-completion of your code when you hit <kbd>TAB</kbd>\n",
    "  - automatic code checking for basic errors\n",
    "  - colouring your brackets in pairs so you can keep track of the logical order of execution of your code!\n",
    "\n",
    "- to know how to install Python packages. A Python package is a collection of functions, data, and documentation that extends the capabilities of an installed version of Python. Using packages is key to most economic analysis because most of the functionality we’ll need comes from extra packages. You’ll see statements like `import numpy as np` at the start of many Python code scripts—these are instructions to use an installed package (here one called `numpy`) and to give it a shortened name (`np`, for convenience) in the rest of the script. The functions in the numpy package are then accessed through syntax like `np.`; for example, you can take logs with `np.log(x)` where `x` is a variable containing a number. You need only install packages once, but you must import them into each script you need to use them in."
   ]
  },
  {
   "cell_type": "markdown",
   "metadata": {},
   "source": [
    "### Typical coding workflow\n",
    "\n",
    "We think it might also be useful for you to know what a typical coding workflow might look like too. It goes something like this:\n",
    "\n",
    "- Open up your integrated development environment (IDE)\n",
    "\n",
    "- Write some code in a script (a text file with code in) in your IDE\n",
    "\n",
    "- If necessary for the analysis that you’re doing, install any extra packages\n",
    "\n",
    "- Use the IDE to send bits of code from the script, or the entire script, to be executed by Python and add-on packages, and to display results\n",
    "\n",
    "We’ll see two ways to achieve this workflow:\n",
    "\n",
    "1. Installing an IDE, Python, and any extra packages on your own computer—essentially **coding on your own computer**\n",
    "\n",
    "2. **Coding on a computer in the cloud** that you access through your internet browser. The cloud computer has an IDE and Python built-in, and you can easily install extra packages in it too. However, you should be aware that the cloud service we recommend has a 60 hours / month free tier—beyond this, you’ll need to pay for extra hours.\n"
   ]
  },
  {
   "cell_type": "markdown",
   "metadata": {},
   "source": [
    "## How to get started on your own computer\n",
    "\n",
    "\n",
    "These instructions are for if you've decided to code on your own computer.\n",
    "\n",
    "### Installing Python\n",
    "\n",
    "To download and install Python, we'll use the Anaconda \"distribution\" of Python, which is available on all major operating systems. To install it, follow the instructions below or watch this video on *[how to install Python using the Anaconda distribution of Python](https://www.youtube.com/watch?v=ZWQwGR5ppnk)*.\n",
    "\n",
    "<iframe width=\"700\" height=\"394\" src=\"https://www.youtube.com/embed/ZWQwGR5ppnk\" title=\"YouTube video player\" frameborder=\"0\" allow=\"accelerometer; autoplay; clipboard-write; encrypted-media; gyroscope; picture-in-picture\" allowfullscreen></iframe>\n",
    "\n",
    "Download the individual edition of the [Anaconda distribution](https://www.anaconda.com/) of Python for your operating system and install it. This will provide you with a Python installation and a host of the most useful libraries. If you get stuck, there are more detailed instructions available for installing the Anaconda distribution of Python [on Windows](https://docs.anaconda.com/anaconda/install/windows/), [on Mac](https://docs.anaconda.com/anaconda/install/mac-os/), and [on Linux](https://docs.anaconda.com/anaconda/install/linux/).\n",
    "\n",
    "You can confirm that you've set up Anaconda correctly by following the [verify installation instructions](https://docs.anaconda.com/free/anaconda/install/verify-install/#conda) on the Anaconda website.\n",
    "\n",
    "If you're using Microsoft's Windows operating system, you can check if Anaconda has installed properly by opening the 'Anaconda prompt' (a special text-based way to issue commands to your computer) and type `where python`. You should see a path rendered as text in the prompt that includes \"Anaconda3\", for example something like `C:\\Users\\<your-username>\\Anaconda3\\...`. On Mac and Linux you may need to run `conda init` on your command line to activate your Anaconda Python environment. You can check you've got the right Python with `which python`, which should result in a message back saying `/Users/<your-username>/opt/anaconda3/bin/python`."
   ]
  },
  {
   "cell_type": "markdown",
   "metadata": {},
   "source": [
    "### Installing your integrated development environment, Visual Studio Code\n",
    "\n",
    "[Visual Studio Code](https://code.visualstudio.com/) is a free and open source IDE from Microsoft that is available on all major operating systems. Just like Python itself, Visual Studio can be extended with packages, and it is those packages, called extensions in this case, that make it so useful. As well as Python, Visual Studio Code supports a ton of other languages.\n",
    "\n",
    "Download and install Visual Studio Code. If you need some help, there is a video below that will walk you through downloading and installing Visual Studio Code, and then using it to run Python code in both scripts and in notebooks. We'll go through these instructions in detail in the rest of this chapter.\n",
    "\n",
    "<iframe width=\"700\" height=\"394\" src=\"https://www.youtube.com/embed/1kKTYsQdaPw\" title=\"YouTube video player\" frameborder=\"0\" allow=\"accelerometer; autoplay; clipboard-write; encrypted-media; gyroscope; picture-in-picture\" allowfullscreen></iframe>\n",
    "\n",
    "*[How to install Visual Studio Code and use it to run Python code](https://www.youtube.com/watch?v=1kKTYsQdaPw)*\n"
   ]
  },
  {
   "cell_type": "markdown",
   "metadata": {},
   "source": [
    "## Coding in the cloud\n",
    "\n",
    "These instructions are for if you wish to code in the cloud rather than on your own computer.\n",
    "\n",
    "### Github Codespaces\n",
    "\n",
    "There are many ways to use cloud computers to do economics, but we're going to share with you the absolute simplest. For this, you will need to sign up for a [Github Account](https://github.com/). Github is an organisation that's owned by Microsoft and which provides a range of services including a way to back-up code on the cloud, and cloud computing. One of the services offered is *Github Codespaces*. A GitHub Codespace is an online cloud computer that you connect to from your browser window. It has a generous 60 hours free of computing per month, and it uses Visual Studio Code as an IDE.\n",
    "\n",
    "Do note that if you go over the free tier hours on Github Codespaces, your credit card will be charged for any further hours of GitHub Codespaces you use.\n",
    "\n",
    "Once you've signed up for a Github account, head to [Github Codespaces](https://github.com/codespaces) and click on \"Get Started for Free\". You should see a menu of \"quick start templates\". Under where it says \"Jupyter Notebook\", hit \"Use this template\".\n",
    "\n",
    "You will find that a new page loads with several panels in. This is an online version of Visual Studio Code that works much like if you had installed it on your own computer. It will already have a version of Python installed—you can check which one by running `python --version` in the terminal. The terminal is usually found in the lowest panel of Visual Studio Code, and, in Codespaces, will typically display a welcome message.\n",
    "\n",
    "### Binder\n",
    "\n",
    "Binder is a free online service that provides code notebooks in the cloud. Notebooks mix text and code together and each chapter in this book is available as a notebook too. Binder uses a different (but still phenomenal) IDE to the one we recommend, Visual Studio Code: it uses JupyterLab instead.\n",
    "\n",
    "You can find the [link to the notebooks of this book here](https://mybinder.org/v2/gh/aeturrell/core_python/HEAD), or by clicking on the button below:\n",
    "\n",
    "[![Binder](https://mybinder.org/badge_logo.svg)](https://mybinder.org/v2/gh/aeturrell/core_python/HEAD)\n",
    "\n",
    "To get started in Binder, click on one of the chapters on the left (these have names like \"empirical_project_1.ipynb\"). This will start one of the chapter notebooks. You will need to install the packages for the chapters too. You can access a terminal to install packages by going to \"New -> Terminal\", and then typing in the install package command, which is `pip install packagename`.\n",
    "\n",
    "### Alternative coding in the cloud options\n",
    "\n",
    "As well as following this book using your own computer or on the cloud via Github Codespaces, you can run the code online through a few other options. The first is the easiest to get started with.\n",
    "\n",
    "1. [Google Colab notebooks](https://research.google.com/colaboratory/). Colab is really easy to use, free, and has Python pre-installed. It only covers notebooks though (a mix of text and code) rather than code-only scripts.\n",
    "2. [Gitpod Workspace](https://www.gitpod.io/). An alternative to Codespaces. This is a remote, cloud-based version of Visual Studio Code with Python installed and will run Python scripts.\n"
   ]
  },
  {
   "cell_type": "markdown",
   "metadata": {},
   "source": [
    "## Running your first Python code\n",
    "\n",
    "### Getting to grips with Visual Studio Code\n",
    "\n",
    "Once you have Visual Studio Code installed and opened (either on your own computer or in the cloud), navigate to the 'extensions' tab on the left hand side vertical bar of icons (it's the one that looks like 4 squares). You'll need to install the *Python extension for VS Code*, which you can search for by using the text box within VS Code's extensions panel. If you're using the cloud version, you may find that it's already installed.\n",
    "\n",
    "There are some other extensions it's useful to have and install (if they aren't already):\n",
    "\n",
    "- Jupyter\n",
    "- Pylance\n",
    "- indent-rainbow\n",
    "\n",
    "Although you won't have any Python code to play with yet, or an interactive window to execute that Python code, it's worth us spending a brief moment familiarising ourselves with the different bits of a *typical* view in Visual Studio Code.\n",
    "\n",
    "![A typical user view in Visual Studio Code](https://github.com/aeturrell/coding-for-economists/blob/main/img/vscode_layout.png?raw=true)\n",
    "\n",
    "The figure above shows the typical layout of Visual Studio Code once you have a Python session running, and a Python script open. The long vertical panel on the far left-hand side changes what is seen in panels 1 and 2; it currently has the file explorer selected. Let's run through the numbered parts of the figure.\n",
    "\n",
    "1. When the explorer option is selected from the icons to the left of 1 and 2, the contents of the folder that's currently open are shown in 1.\n",
    "2. This is an outline of the key parts of the file that is open in 3.\n",
    "3. This is just a fancy text editor. In the figure above, it's showing a Python script (a file that contains code and has a name that ends in `.py`). Shortly, we'll see how selecting code and pressing <kbd>Shift</kbd> + <kbd>Enter</kbd> ('Enter' is labelled as 'Return' on some keyboards) will execute code whose results appear in panel 5.\n",
    "4. This is the command line or *terminal*, a place where you can type in commands that your computer will then execute. If you want to try a command, type `date` (Mac/Linux) or `date /t` (Windows). This is where we install extra *packages*.\n",
    "5. This is the interactive Python window, which is where code and code outputs appear after you select and execute them from a script (see 3). It shows the code that you executed and any outputs from that execution—in the screenshot shown, the code has created a plot. The name and version of Python you're using appear at the top of the interactive window.\n",
    "\n",
    "Note that there is lots of useful information arrayed right at the bottom of the window in the bar at the bottom of the screen, including the version of Python currently being used by VS Code.\n",
    "\n",
    "### Running Python code\n",
    "\n",
    "Now you will create and run your first code. If you get stuck, there's a more in-depth tutorial over at the [VS Code documentation](https://code.visualstudio.com/docs/python/python-tutorial).\n",
    "\n",
    "In Visual Studio Code, click on the \"Explorer\" symbol (some files on the left-hand side of the screen) to bring up a file explorer. Check you're in a good location on your computer to try things out and, if not, change the folder you're in using File -> Open Folder until you're happy.\n",
    "\n",
    "Now, still with the explorer panel open, click on the symbol that looks like a blank piece of paper with a \"+\" sign on it. This will create a new file, and your cursor should move to name it. Name it `hello_world.py`. The file extension, `.py`, is very important as it implicitly tells Visual Studio Code that this is a Python script.\n",
    "\n",
    "In the Visual Studio Code editor, add a single line to the file:\n",
    "\n",
    "```python\n",
    "print('Hello World!')\n",
    "```\n",
    "\n",
    "Save the file.\n",
    "\n",
    "If you named this file with the extension `.py` then VS Code will recognise that it is Python code and you should see the name and version of Python pop up in the bar at the bottom of your VS Code window. (You can have multiple versions of Python installed—if you ever want to change which Python version your code uses, click on the version shown in the bar and select the version you want.)\n",
    "\n",
    "Alright, shall we actually **run some code**? Select/highlight the `print(\"Hello world!\")` text you typed in the file and right-click. You'll get a lot of options here, but the one you want is **\"Run Selection/Line in Interactive Window\"**.\n",
    "\n",
    "This should cause a new 'interactive' panel to appear within Visual Studio Code, and, hey presto you should see:\n",
    "\n",
    "```python\n",
    "print(\"Hello world!\")\n",
    "```\n",
    "```text\n",
    "Hello world!\n",
    "```\n",
    "\n",
    "The *interactive window* is a convenient and flexible way to run code that you have open in a script or that you type directly into the interactive window code box. The interactive window will 'remember' any variables that have been assigned (for examples, code statements like `x = 5`), whether they came from running some lines in your script or from you typing them in directly. Working with the interactive window will feel familiar to anyone who has used Stata, Matlab, or R. It doesn't require you to write the whole script, start to finish, ahead of time. Instead, you can jam, changing code as you go, (re-)running it line by line.\n",
    "\n",
    "It would be cumbersome to have to right-click every time we wanted to run some code, so we're going to make a *keyboard shortcut* to send whatever code is highlighted to the interactive window to be executed. To do this:\n",
    "\n",
    "- Open up the Visual Studio Code configuration menu (the cog on the lower left-hand side)\n",
    "- Go to Settings\n",
    "- Type \"jupyter send\" in the box to make an entry \"Interactive Window > Text Editor: Execute Selection\" appear\n",
    "- Ensure the box next to this entry is ticked\n",
    "\n",
    "Now return to your script, put your cursor on the line with `print(\"Hello world!\")` on, and hit <kbd>Shift</kbd>+<kbd>Enter</kbd>. You should see \"Hello world!\" appear again, only this time, it was much easier.\n",
    "\n",
    "Let's make more use of the *interactive window*. At the bottom of it, there is a box that says 'Type code here and press shift-enter to run'. Go ahead and type `print('Hello World!')` directly in there to achieve the same effect as running the line from your script. Also, any variables you run in the interactive window (from your script or directly by entering them in the box) will persist.\n",
    "\n",
    "To see how variables persist, type `hello_string = 'Hello World!'` into the interactive window's code entry box and hit shift-enter. If you now type `hello_string` and hit shift+enter, you will see the contents of the variable you just created. You can also click the grid symbol at the top of the interactive window (between the stop symbol and the save file symbol); this is the variable explorer and will pop open a panel showing all of the variables you've created in this interactive session. You should see one called `hello_string` of type `str` with a value `Hello World!`.\n",
    "\n",
    "This shows the two ways of working with the interactive window--running (segments) from a script, or writing code directly in the entry box. It doesn't matter which way you entered variables, they will all be remembered within that session in your interactive window."
   ]
  },
  {
   "cell_type": "markdown",
   "metadata": {},
   "source": [
    "## Packages and How to Install Them\n",
    "\n",
    "Packages (also called libraries) are key to extending the functionality of Python. The default installation of Anaconda comes with many (around 250) of the packages you'll need, but it won't be long before you'll need to install some extra ones. There are packages for geoscience, for building websites, for analysing genetic data, and, yes, of course, for economics. Packages are typically not written by the core maintainers of the Python language but by enthusiasts, firms, researchers, academics, all sorts! Because anyone can write packages, they vary widely in their quality and usefulness. There are some that are key for an economics workflow, though, and you'll be seeing them again and again.\n",
    "\n",
    "Python packages don't come built-in (by definition) so you need to install them (just once, like installing any other application), and then import them into your scripts (whenever you use them in a script). When you issue an install command for a specific package, it is automatically downloaded from the internet and installed in the appropriate place on your computer.\n"
   ]
  },
  {
   "cell_type": "markdown",
   "metadata": {},
   "source": [
    "### Installing packages\n",
    "\n",
    "\n",
    "To install extra Python packages, you issue install commands to a text-based window called the \"terminal\" or \"command line\". This is a text-based way of issuing instructions to your computers operating system. In the figure earlier, the terminal is labelled as panel number 4, and it may well be open when you start Visual Studio Code. If not, to open up the command line within Visual Studio Code, use the <kbd>⌃</kbd> + <kbd>\\`</kbd> keyboard shortcut (Mac) or <kbd>ctrl</kbd> + <kbd>\\`</kbd> (Windows/Linux), or click \"View > Terminal\".\n",
    "\n",
    "To install a package, navigate to the terminal, type in\n",
    "\n",
    "```bash\n",
    "pip install packagename\n",
    "```\n",
    "\n",
    "and then hit return. Some packages that are very useful that you might want to install (and that aren't automatically included with the Anaconda distribution) are:\n",
    "\n",
    "- [skimpy](https://aeturrell.github.io/skimpy/)\n",
    "- [lets-plot](https://lets-plot.org/)\n",
    "- [pingouin](https://pingouin-stats.org/build/html/index.html)\n"
   ]
  },
  {
   "attachments": {},
   "cell_type": "markdown",
   "metadata": {},
   "source": [
    "## Python Version Used in Examples\n",
    "\n",
    "The Python walkthroughs in this book were created with Python and Operating System versions:"
   ]
  },
  {
   "cell_type": "code",
   "execution_count": null,
   "metadata": {},
   "outputs": [],
   "source": [
    "%load_ext watermark\n",
    "%watermark"
   ]
  }
 ],
 "metadata": {
  "kernelspec": {
   "display_name": ".venv",
   "language": "python",
   "name": "python3"
  },
  "language_info": {
   "codemirror_mode": {
    "name": "ipython",
    "version": 3
   },
   "file_extension": ".py",
   "mimetype": "text/x-python",
   "name": "python",
   "nbconvert_exporter": "python",
   "pygments_lexer": "ipython3",
   "version": "3.9.10"
  },
  "vscode": {
   "interpreter": {
    "hash": "26c4b888616894cf8360ee3d370b6a41732ef00c8f1d61e869c42a8428cf1ac1"
   }
  }
 },
 "nbformat": 4,
 "nbformat_minor": 2
}
