{
 "cells": [
  {
   "cell_type": "markdown",
   "metadata": {},
   "source": [
    "# Technical reference\n",
    "\n",
    "## Python versions\n",
    "\n",
    "The Python walkthroughs were created with Visual Studio Code version 1.61.2, and Python and Operating System versions:"
   ]
  },
  {
   "cell_type": "code",
   "execution_count": null,
   "metadata": {},
   "outputs": [],
   "source": [
    "%load_ext watermark\n",
    "%watermark"
   ]
  },
  {
   "cell_type": "markdown",
   "metadata": {},
   "source": [
    "The versions of Python packages used are:"
   ]
  },
  {
   "cell_type": "code",
   "execution_count": null,
   "metadata": {},
   "outputs": [],
   "source": [
    "import toml\n",
    "\n",
    "toml_file = toml.load(\"pyproject.toml\")\n",
    "pgks = toml_file[\"tool\"][\"poetry\"][\"dependencies\"]\n",
    "del pgks[\"python\"]\n",
    "pgks"
   ]
  },
  {
   "cell_type": "markdown",
   "metadata": {},
   "source": [
    "If you are just getting going with Python, this [short tutorial](https://code.visualstudio.com/docs/python/python-tutorial) on setting up Python and Visual Studio Code from Microsoft is a good place to start (ignore the bits about debugging). For Python support specific to economists (including on how to setup Python on your computer), see the free online book [Coding for Economists](https://aeturrell.github.io/coding-for-economists). If you don't want to install Python locally, you can use [Google Colab](https://colab.research.google.com/)—a free, online Python service—instead."
   ]
  }
 ],
 "metadata": {
  "kernelspec": {
   "display_name": ".venv",
   "language": "python",
   "name": "python3"
  },
  "language_info": {
   "codemirror_mode": {
    "name": "ipython",
    "version": 3
   },
   "file_extension": ".py",
   "mimetype": "text/x-python",
   "name": "python",
   "nbconvert_exporter": "python",
   "pygments_lexer": "ipython3",
   "version": "3.8.8 (default, Apr 13 2021, 12:59:45) \n[Clang 10.0.0 ]"
  },
  "vscode": {
   "interpreter": {
    "hash": "26c4b888616894cf8360ee3d370b6a41732ef00c8f1d61e869c42a8428cf1ac1"
   }
  }
 },
 "nbformat": 4,
 "nbformat_minor": 2
}
