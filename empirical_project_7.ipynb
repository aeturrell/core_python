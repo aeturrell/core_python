{
 "cells": [
  {
   "attachments": {},
   "cell_type": "markdown",
   "metadata": {},
   "source": [
    "# Empirical Project 7"
   ]
  },
  {
   "attachments": {},
   "cell_type": "markdown",
   "metadata": {},
   "source": [
    "## Getting Started in Python\n",
    "\n",
    "Head to the \"Getting Started in Python\" page for help and advice on setting up a Python session to work with. Remember, you can run any page from this book as a *notebook* by downloading the relevant file from this [repository](https://github.com/aeturrell/core_python) and running it on your own computer. Alternatively, you can run pages online in your browser over at [Binder](https://mybinder.org/v2/gh/aeturrell/core_python/HEAD)."
   ]
  },
  {
   "attachments": {},
   "cell_type": "markdown",
   "metadata": {},
   "source": [
    "## Preliminary Settings\n",
    "\n",
    "Let's import the packages we'll need and also configure the settings we want:"
   ]
  },
  {
   "cell_type": "code",
   "execution_count": null,
   "metadata": {},
   "outputs": [],
   "source": [
    "import pandas as pd\n",
    "import numpy as np\n",
    "from pathlib import Path\n",
    "from lets_plot import *\n",
    "from lets_plot.mapping import as_discrete\n",
    "\n",
    "LetsPlot.setup_html(no_js=True)"
   ]
  },
  {
   "cell_type": "markdown",
   "metadata": {},
   "source": [
    "## Python Walkthrough 7.1\n",
    "\n",
    "**Importing data into Python and creating tables and charts**\n",
    "\n",
    "First ensure the data, contained in `Project-7-datafile.xlsx`, are stored within a subfolder of your working directory called `data`. The following code, using Python's built-in `glob` library, will list the file if you're in the right place:"
   ]
  },
  {
   "cell_type": "code",
   "execution_count": null,
   "metadata": {},
   "outputs": [],
   "source": [
    "import glob\n",
    "\n",
    "glob.glob(\"data/*.xlsx\")"
   ]
  },
  {
   "cell_type": "markdown",
   "metadata": {},
   "source": [
    "If you're in the wrong place, you can change the working directory with `import os` followed by `os.chdir(\"path/to/your/working/directory\")` but it's better practice to just open a folder with an editor like Visual Studio Code directly."
   ]
  },
  {
   "cell_type": "markdown",
   "metadata": {},
   "source": [
    "Now let's read in the data using **pandas** `pd.read_excel` function."
   ]
  },
  {
   "cell_type": "code",
   "execution_count": null,
   "metadata": {},
   "outputs": [],
   "source": [
    "df = pd.read_excel(Path(\"data/Project-7-datafile.xlsx\"), sheet_name=\"Sheet1\")\n",
    "df.head()"
   ]
  },
  {
   "cell_type": "markdown",
   "metadata": {},
   "source": [
    "We're going to use the `np.exp` function to create the variables `\"p\"` (price), `\"q\"` (quantity), and `\"h\"` (harvest) from their log counterparts.\n",
    "\n",
    "The names are a bit confusing too (`\"\\n\"` is the new line character) so we'll clean them up first. We'll use a *regular expression* to replace any whitespace (including the new line character) with underscores."
   ]
  },
  {
   "cell_type": "code",
   "execution_count": null,
   "metadata": {},
   "outputs": [],
   "source": [
    "df.columns = df.columns.str.replace(\"\\s+\", \"_\", regex=True)\n",
    "df.head()"
   ]
  },
  {
   "cell_type": "markdown",
   "metadata": {},
   "source": [
    "Now we can transform some of the columns with `np.exp`. As we're applying the same function multiple times, we can use a loop."
   ]
  },
  {
   "cell_type": "code",
   "execution_count": null,
   "metadata": {},
   "outputs": [],
   "source": [
    "cols_to_convert = {\"log_q_(Q)\": \"q\", \"log_p_(P)\": \"p\", \"log_h_(X)\": \"h\"}\n",
    "for key, value in cols_to_convert.items():\n",
    "    df[value] = np.exp(df[key])\n",
    "\n",
    "df.head()"
   ]
  },
  {
   "cell_type": "markdown",
   "metadata": {},
   "source": [
    "Let’s plot the chart for the prices, with year as the horizontal axis variable and price (p) as the vertical axis variable."
   ]
  },
  {
   "cell_type": "code",
   "execution_count": null,
   "metadata": {},
   "outputs": [],
   "source": [
    "(\n",
    "    ggplot(df, aes(x=as_discrete(\"Year\"), y=\"p\"))\n",
    "    + geom_line(size=2)\n",
    "    + labs(x=\"Year\", y=\"Price\")\n",
    "    + theme(axis_text=element_text(angle=0))\n",
    "    + scale_x_continuous(format=\"d\")\n",
    ")"
   ]
  },
  {
   "cell_type": "markdown",
   "metadata": {},
   "source": [
    "**Figure 7.2** *Line chart for prices of watermelons*"
   ]
  },
  {
   "cell_type": "markdown",
   "metadata": {},
   "source": [
    "Now we create the line chart for harvest and crop quantities (the variables `\"h\"` and `\"q\"`, respectively). These data are not \"tidy\", so it's harder to use **lets-plot** and the \"grammar of graphics\" approach. We could use **matplotlib** instead, but as we've used **lets-plot** already, we're going to pursue our other option, which is to transform the data.\n",
    "\n",
    "To turn them into a tidy format, we use `pd.melt`. We're going to keep `\"Year\"` as it is, but turn \"q\" and \"h\" into values in a new column called `\"variable\"` and their values will be in another new column called `\"quantity\"`."
   ]
  },
  {
   "cell_type": "code",
   "execution_count": null,
   "metadata": {},
   "outputs": [],
   "source": [
    "tidy_df = pd.melt(\n",
    "    df.rename(columns={\"h\": \"Harvest\", \"q\": \"Crop\"}),\n",
    "    id_vars=\"Year\",\n",
    "    value_vars=[\"Harvest\", \"Crop\"],\n",
    "    value_name=\"quantity\",\n",
    ")\n",
    "tidy_df.head()"
   ]
  },
  {
   "cell_type": "code",
   "execution_count": null,
   "metadata": {},
   "outputs": [],
   "source": [
    "(\n",
    "    ggplot(\n",
    "        tidy_df,\n",
    "        aes(x=as_discrete(\"Year\"), y=\"quantity\", linetype=\"variable\", color=\"variable\"),\n",
    "    )\n",
    "    + geom_line(size=2)\n",
    "    + labs(y=\"Quantity\")\n",
    "    + theme(axis_text_x=element_text(angle=0))\n",
    "    + scale_x_continuous(format=\"d\")\n",
    ")"
   ]
  },
  {
   "cell_type": "markdown",
   "metadata": {},
   "source": [
    "**Figure 7.3** *Line chart for harvest and crop for watermelons.*"
   ]
  }
 ],
 "metadata": {
  "kernelspec": {
   "display_name": "Python 3.8.8 ('.venv': poetry)",
   "language": "python",
   "name": "python3"
  },
  "language_info": {
   "codemirror_mode": {
    "name": "ipython",
    "version": 3
   },
   "file_extension": ".py",
   "mimetype": "text/x-python",
   "name": "python",
   "nbconvert_exporter": "python",
   "pygments_lexer": "ipython3",
   "version": "3.9.10"
  },
  "vscode": {
   "interpreter": {
    "hash": "26c4b888616894cf8360ee3d370b6a41732ef00c8f1d61e869c42a8428cf1ac1"
   }
  }
 },
 "nbformat": 4,
 "nbformat_minor": 2
}
