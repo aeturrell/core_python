{
 "cells": [
  {
   "cell_type": "markdown",
   "metadata": {},
   "source": [
    "# Empirical Project 8\n",
    "\n",
    "---\n",
    "**Download the code**\n",
    "\n",
    "To download the code used in this project as a notebook that can be run in Visual Studio Code, Google Colab, or Jupyter Notebook, right click [here]() and select 'Save Link As', then save it as a `.ipynb` file.\n",
    "\n",
    "Don’t forget to also download the data into your working directory by following the steps in this project.\n",
    "\n",
    "---\n",
    "\n",
    "## Getting started in Python\n",
    "\n",
    "For this project, you will need the following packages:\n",
    "\n",
    "- **pandas** for data analysis\n",
    "- **matplotlib** for data visualisation\n",
    "- **numpy** for numerical methods\n",
    "\n",
    "You'll also be using the **warnings** and **pathlib** packages, but these come built-in with Python.\n",
    "\n",
    "Remember, you can install packages in Visual Studio Code's integrated terminal (click \"View > Terminal\") by running `conda install packagename` (if using the Anaconda distribution of Python) or `pip install packagename` if not.\n",
    "\n",
    "Once you have the Python packages installed, you will need to import them into your Python session—and configure any other initial settings."
   ]
  },
  {
   "cell_type": "code",
   "execution_count": null,
   "metadata": {},
   "outputs": [],
   "source": [
    "import pandas as pd\n",
    "import matplotlib.pyplot as plt\n",
    "import numpy as np\n",
    "from pathlib import Path\n",
    "import warnings\n",
    "\n",
    "# Set the plot style for prettier charts:\n",
    "plt.style.use(\n",
    "    \"https://github.com/aeturrell/coding-for-economists/raw/main/plot_style.txt\"\n",
    ")\n",
    "plt.rcParams[\"figure.figsize\"] = [6, 3]\n",
    "plt.rcParams[\"figure.dpi\"] = 150\n",
    "\n",
    "# Ignore warnings to make nice output\n",
    "warnings.simplefilter(\"ignore\")"
   ]
  },
  {
   "cell_type": "markdown",
   "metadata": {},
   "source": [
    "## Python Walkthrough 8.1\n",
    "\n",
    "**Importing data into Python**\n",
    "\n",
    "As we are importing an Excel file, we use the `pd.read_excel` function provided by the **pandas** package. The file is called Project-8-datafile.xlsx and is saved into a subfolder of our working directory called 'data'. The file contains four worksheets that contain the data, named ‘Wave 1’ through to ‘Wave 4’. We will load the worksheets one-by-one and add them to the previous worksheets using the `pd.concat` function, which combines dataframes together. The final output is called `lifesat_data`."
   ]
  },
  {
   "cell_type": "code",
   "execution_count": null,
   "metadata": {},
   "outputs": [],
   "source": [
    "list_of_sheetnames = [\"Wave \" + str(i) for i in range(1, 5)]\n",
    "list_of_dataframes = [pd.read_excel(Path(\"data/Project-8-datafile.xlsx\"), sheet_name=x) for x in list_of_sheetnames]\n",
    "lifesat_data = pd.concat(list_of_dataframes, axis=0)\n",
    "lifesat_data.head()"
   ]
  },
  {
   "cell_type": "markdown",
   "metadata": {},
   "source": [
    "The variable names provided in the spreadsheet are not very specific (a combination of letters and numbers that don’t tell us what the variable measures). To make it easier to keep track we can use a multi-index for our columns; this is an index with more than one entry per column. We will create a multi-index that includes the original codes, then has labels, and then has a short description.\n",
    "\n",
    "To create a multi-index, we're going to create a type of Python object called a `tuple`, which is like a list but has curvy brackets instead of square brackets. We'll zip up (using the `zip` function) the three lists of details: codenames (from the columns), labels, and short descriptions into a tuple. Each entry will look, for example, like `(\"A009\", \"Health\", \"State of health (subjective)\")`"
   ]
  },
  {
   "cell_type": "code",
   "execution_count": null,
   "metadata": {},
   "outputs": [],
   "source": [
    "labels = [\"EVS-wave\", \"Country/region\", \"Respondent number\", \"Health\", \"Life satisfaction\",\n",
    "    \"Work Q1\", \"Work Q2\", \"Work Q3\", \"Work Q4\", \"Work Q5\", \"Sex\", \"Age\", \"Marital status\", \"Number of children\",\n",
    "    \"Education\", \"Employment\", \"Monthly household income\"]\n",
    "\n",
    "short_description = [\"EVS-wave\",\n",
    "    \"Country/region\",\n",
    "    \"Original respondent number\",\n",
    "    \"State of health (subjective)\",\n",
    "    \"Satisfaction with your life\",\n",
    "    \"To develop talents you need to have a job\",\n",
    "    \"Humiliating to receive money w/o working for it\",\n",
    "    \"People who don't work become lazy\",\n",
    "    \"Work is a duty towards society\",\n",
    "    \"Work comes first even if it means less spare time\",\n",
    "    \"Sex\",\n",
    "    \"Age\",\n",
    "    \"Marital status\",\n",
    "    \"How many living children do you have\",\n",
    "    \"Educational level (ISCED-code one digit)\",\n",
    "    \"Employment status\",\n",
    "    \"Monthly household income (x 1,000s PPP euros)\"]\n",
    "\n",
    "index = pd.MultiIndex.from_tuples(tuple(zip(lifesat_data.columns, labels, short_description)), names=[\"code\", \"label\", \"description\"])\n",
    "\n",
    "index"
   ]
  },
  {
   "cell_type": "markdown",
   "metadata": {},
   "source": [
    "Now we can replace the original columns with this multi-index, which is more informative than having the code names alone were."
   ]
  },
  {
   "cell_type": "code",
   "execution_count": null,
   "metadata": {},
   "outputs": [],
   "source": [
    "lifesat_data.columns = index\n",
    "lifesat_data.head()"
   ]
  },
  {
   "cell_type": "markdown",
   "metadata": {},
   "source": [
    "This is mostly for convenience, but we can still look at individual columns just as we did before (using the codes):"
   ]
  },
  {
   "cell_type": "code",
   "execution_count": null,
   "metadata": {},
   "outputs": [],
   "source": [
    "lifesat_data[\"S003\"].head()"
   ]
  },
  {
   "cell_type": "markdown",
   "metadata": {},
   "source": [
    "Throughout this project we will refer to the variables using their original names, but you can see the extra info at the top of the dataframe when you need to."
   ]
  },
  {
   "cell_type": "markdown",
   "metadata": {},
   "source": [
    "## Python Walkthrough 8.2\n",
    "\n",
    "**Cleaning data and splitting variables**"
   ]
  }
 ],
 "metadata": {
  "interpreter": {
   "hash": "13950ff975ea58bb356510d0d8f98cdd1bd1f12bd4ccce66a17a21f4f1a23379"
  },
  "kernelspec": {
   "display_name": "Python 3.9.7 64-bit ('core-python-wDU3726x-py3.9': poetry)",
   "name": "python3"
  },
  "language_info": {
   "codemirror_mode": {
    "name": "ipython",
    "version": 3
   },
   "file_extension": ".py",
   "mimetype": "text/x-python",
   "name": "python",
   "nbconvert_exporter": "python",
   "pygments_lexer": "ipython3",
   "version": "3.9.7"
  }
 },
 "nbformat": 4,
 "nbformat_minor": 2
}
