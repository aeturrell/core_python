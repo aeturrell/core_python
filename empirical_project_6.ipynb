{
 "cells": [
  {
   "cell_type": "markdown",
   "metadata": {},
   "source": [
    "# Empirical Project 6\n",
    "\n",
    "---\n",
    "**Download the code**\n",
    "\n",
    "To download the code used in this project as a notebook that can be run in Visual Studio Code or Google Colab, right click [here]() and select 'Save Link As', then save it as a `.ipynb` file.\n",
    "\n",
    "Don’t forget to also download the data into your working directory by following the steps in this project.\n",
    "\n",
    "---\n",
    "\n",
    "## Getting started in Python\n",
    "\n",
    "For this project, you will need the following packages:\n",
    "\n",
    "- **pandas** for data analysis\n",
    "- **matplotlib** for data visualisation\n",
    "- **numpy** for numerical methods\n",
    "\n",
    "You'll also be using the **warnings** and **pathblib** packages, but these come built-in with Python.\n",
    "\n",
    "Remember, you can install packages in Visual Studio Code's integrated terminal (click \"View > Terminal\") by running `conda install packagename` (if using the Anaconda distribution of Python) or `pip install packagename` if not.\n",
    "\n",
    "Once you have the Python packages installed, you will need to import them into your Python session—and configure any other initial settings."
   ]
  },
  {
   "cell_type": "code",
   "execution_count": null,
   "metadata": {},
   "outputs": [],
   "source": [
    "import pandas as pd\n",
    "import matplotlib.pyplot as plt\n",
    "import numpy as np\n",
    "from pathlib import Path\n",
    "import warnings\n",
    "\n",
    "# Set the plot style for prettier charts:\n",
    "plt.style.use(\n",
    "    \"https://github.com/aeturrell/coding-for-economists/raw/main/plot_style.txt\"\n",
    ")\n",
    "plt.rcParams[\"figure.figsize\"] = [6, 3]\n",
    "plt.rcParams[\"figure.dpi\"] = 150\n",
    "\n",
    "# Ignore warnings to make nice output\n",
    "warnings.simplefilter(\"ignore\")"
   ]
  },
  {
   "cell_type": "markdown",
   "metadata": {},
   "source": [
    "## TODO\n",
    "\n",
    "download the zip and extract the files .. and .. to data/ within your working directory\n",
    "\n",
    "## Python Walkthrough 6.1\n",
    "\n",
    "**Importing data into Python and creating tables and charts**\n",
    "\n",
    "Before opening an Excel or csv file using Python, you can open the file in spreadsheet software (such as Excel) to understand how it's structured. From looking at the file, we learn that:\n",
    "\n",
    "* the variable names are in the first row (no need to use the `skiprows` keyword argument)\n",
    "* missing values are represented by empty cells\n",
    "* the last variable is in Column S, with short variable descriptions in Column U: it is easier to import everything first and remove the unnecessary data afterwards.\n",
    "\n",
    "We will call our imported data `df`."
   ]
  },
  {
   "cell_type": "code",
   "execution_count": null,
   "metadata": {},
   "outputs": [],
   "source": [
    "df = pd.read_csv(Path(\"data/AMP_graph_manufacturing.csv\"))\n",
    "df.info()"
   ]
  },
  {
   "cell_type": "markdown",
   "metadata": {},
   "source": [
    "You can see that the penultimate column with values, Column T, was imported as `\"Unnamed: 19\"` and only contains `NaN`s. The final column of values has been imported into **pandas** comes from Column U in the spreadsheet and contains information about the variables (named `\"storage display value\"`).\n",
    "\n",
    "Let's extract the information about the variables in a new **pandas** series called `man_varinfo` and then remove both of these columns from the dataset. To make it easier to see the `man_varinfo`, we'll temporarily override **pandas** column width limits."
   ]
  },
  {
   "cell_type": "code",
   "execution_count": null,
   "metadata": {},
   "outputs": [],
   "source": [
    "man_varinfo = df.iloc[:, -1].dropna()\n",
    "\n",
    "with pd.option_context('display.max_colwidth', 80):\n",
    "    print(man_varinfo)"
   ]
  },
  {
   "cell_type": "markdown",
   "metadata": {},
   "source": [
    "And now to drop the last two columns:"
   ]
  },
  {
   "cell_type": "code",
   "execution_count": null,
   "metadata": {},
   "outputs": [],
   "source": [
    "df = df.iloc[:, :-2]\n",
    "df.head()"
   ]
  },
  {
   "cell_type": "markdown",
   "metadata": {},
   "source": [
    "A few of the variables that have been imported as numbers are actually categorical variables; there are `\"mne_f\"` , `\"mne_d\"`, and `\"competition2004\"`. **pandas** doesn't automatically know what datatypes different variables should have. However, we can set the type of these variables as categorical and we can use labels to define what each of the numbers in the variables represents.\n",
    "\n",
    "The first two have quite clear labels. For the third, we'll use some string manipulation tools to grab the labels directly from the `man_varinfo` variable."
   ]
  },
  {
   "cell_type": "code",
   "execution_count": null,
   "metadata": {},
   "outputs": [],
   "source": [
    "lab_mne_f = [\"No MNE_f\", \"MNE_f\"]\n",
    "lab_mne_d = [\"No MNE_d\", \"MNE_d\"]\n",
    "lab_comp2004 = man_varinfo.iloc[16].split(\"  \")[-1].split(\",\")\n",
    "print(lab_comp2004)"
   ]
  },
  {
   "cell_type": "markdown",
   "metadata": {},
   "source": [
    "Let's now encode these variables as categoricals, with suitable names."
   ]
  },
  {
   "cell_type": "code",
   "execution_count": null,
   "metadata": {},
   "outputs": [],
   "source": [
    "for col in [\"mne_f\", \"mne_d\", \"competition2004\"]:\n",
    "    df[col] = pd.Categorical(df[col])\n",
    "\n",
    "df[\"mne_f\"] = df[\"mne_f\"].cat.rename_categories(lab_mne_f)\n",
    "df[\"mne_d\"] = df[\"mne_d\"].cat.rename_categories(lab_mne_d)\n",
    "df[\"competition2004\"] = df[\"competition2004\"].cat.rename_categories(lab_comp2004)"
   ]
  },
  {
   "cell_type": "markdown",
   "metadata": {},
   "source": [
    "When you create new labels, check that they have been attached to the correct entries. Although we set them as a list here using, for example, `[\"No MNE_f\", \"MNE_f\"]`, we could have also used a dictionary, for example `{0: \"No MNE_f\", 1: \"MNE_f\"}`, mapping old values into new."
   ]
  },
  {
   "cell_type": "markdown",
   "metadata": {},
   "source": [
    "To create the tables, we can use a technique called method chaining. Rather than have a series of separate assignment commands using `=`, method chaining \"chains\" together a series of methods (these are preceeded by `.`). This approach has pros and cons: it can be easier to read, but harder to debug in case of errors. \n",
    "\n",
    "First, we will group data by country (using `.groupby`), then calculate the required aggregate statistics for each of these groups (using `.agg`), then order the countries according to their overall score (highest to lowest) (`.sort_values`).\n",
    "\n",
    "`.groupby` groups the data according to a given column.\n",
    "\n",
    "`.agg` aggregates data, and returns it with a different index. In combination with `.groupby`, it will return an index based on what column(s) was/were passed to the groupby operation. There are many ways to use `.agg`, including just setting `.agg.mean()` and other functions such as `count()`, `median()`, `sum()`, and `std()`. However, to change the column names of the returned series, you can either pass a dictionary, say `{\"columnname\": \"mean\"}`, or pass an object called a tuple that species the new column name, old column name, and the aggregation function, for example `newcolumnname = (\"columnname\", \"count\")`."
   ]
  },
  {
   "cell_type": "code",
   "execution_count": null,
   "metadata": {},
   "outputs": [],
   "source": [
    "table_mean = (\n",
    "    df\n",
    "    .groupby(\"country\")\n",
    "    .agg(\n",
    "        obs=(\"management\", \"count\"),\n",
    "        m_overall=(\"management\", \"mean\"),\n",
    "        m_monitor=(\"monitor\", \"mean\"),\n",
    "        m_target=(\"target\", \"mean\"),\n",
    "        m_incentives=(\"people\", \"mean\"),\n",
    "    )\n",
    "    .sort_values(by=\"m_overall\", ascending=False)\n",
    ")\n",
    "\n",
    "table_mean.round(2)"
   ]
  },
  {
   "cell_type": "markdown",
   "metadata": {},
   "source": [
    "Let’s make the table showing the ranks. We can use the `.agg` function again, but in this case it keeps the same index as before because we're not using a groupby.\n",
    "\n",
    "We will also drop the `\"obs\"` column, and rename all of the columns so that they begin with `\"r\"` (for rank) rather than `\"m\"`"
   ]
  },
  {
   "cell_type": "code",
   "execution_count": null,
   "metadata": {},
   "outputs": [],
   "source": [
    "table_mean.agg(\"rank\", ascending=False).drop(\"obs\", axis=1)"
   ]
  }
 ],
 "metadata": {
  "interpreter": {
   "hash": "13950ff975ea58bb356510d0d8f98cdd1bd1f12bd4ccce66a17a21f4f1a23379"
  },
  "kernelspec": {
   "display_name": "Python 3.9.7 64-bit ('core-python-wDU3726x-py3.9': poetry)",
   "name": "python3"
  },
  "language_info": {
   "codemirror_mode": {
    "name": "ipython",
    "version": 3
   },
   "file_extension": ".py",
   "mimetype": "text/x-python",
   "name": "python",
   "nbconvert_exporter": "python",
   "pygments_lexer": "ipython3",
   "version": "3.9.7"
  }
 },
 "nbformat": 4,
 "nbformat_minor": 2
}
