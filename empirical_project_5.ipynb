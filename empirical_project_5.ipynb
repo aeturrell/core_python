{
 "cells": [
  {
   "cell_type": "markdown",
   "metadata": {},
   "source": [
    "# Empirical Project 5\n",
    "\n",
    "## Python-specific learning objectives\n",
    "\n",
    "In addition to the learning objectives for this project, in Part 5.1 you will learn how to use loops and list comprehensions to repeat specified tasks for a list of values.\n",
    "\n",
    "## Getting started in Python\n",
    "\n",
    "For this project, you will need the following packages:\n",
    "\n",
    "- **pandas** for data analysis\n",
    "- **matplotlib** for data visualisation\n",
    "- **numpy** for numerical methods\n",
    "\n",
    "You'll also be using the **warnings** and **pathblib** packages, but these come built-in with Python.\n",
    "\n",
    "Remember, you can install packages in Visual Studio Code's integrated terminal (click \"View > Terminal\") by running `conda install packagename` (if using the Anaconda distribution of Python) or `pip install packagename` if not.\n",
    "\n",
    "Once you have the Python packages installed, you will need to import them into your Python session—and configure any other initial settings."
   ]
  },
  {
   "cell_type": "code",
   "execution_count": null,
   "metadata": {},
   "outputs": [],
   "source": [
    "import pandas as pd\n",
    "import matplotlib.pyplot as plt\n",
    "import numpy as np\n",
    "from plotnine import *\n",
    "from pathlib import Path\n",
    "import warnings\n",
    "\n",
    "# Set the plot style for prettier charts:\n",
    "plt.style.use(\n",
    "    \"https://github.com/aeturrell/coding-for-economists/raw/main/plot_style.txt\"\n",
    ")\n",
    "plt.rcParams[\"figure.figsize\"] = [6, 3]\n",
    "plt.rcParams[\"figure.dpi\"] = 150\n",
    "theme_set(theme_seaborn)\n",
    "\n",
    "# Ignore warnings to make nice output\n",
    "warnings.simplefilter(\"ignore\")"
   ]
  },
  {
   "cell_type": "markdown",
   "metadata": {},
   "source": [
    "## TODO\n",
    "\n",
    "- Go to the Globalinc website and download the Excel file containing the data by clicking ‘xlsx’.\n",
    "- Save it in a subfolder of the directory you are coding in such that that the relative path is `data/GCIPrawdata.xlsx`.\n",
    "- Import the data into Python as explained in Python Walkthrough 5.1.\n",
    "\n",
    "## Python Walkthrough 5.1\n",
    "\n",
    "**Importing the Excel file (`.xlsx` or `.xls`) into Python**\n"
   ]
  },
  {
   "cell_type": "markdown",
   "metadata": {},
   "source": [
    "As we are importing an Excel file, we use the `pd.read_excel` function from the **pandas** package. The file is called \"GCIPrawdata.xlsx\". Before you import the file into Python, open the datafile in Excel to understand its structure. You will see that the data is all in one worksheet (which is convenient), and that the headings for the variables are in the third row. Hence we will use the `skiprows=2` option in the `pd.read_excel` function to skip the first two rows.\n",
    "\n",
    "Now let's import the data using the `Path` module to create the path to the data, and look at the first few rows with `head()`:"
   ]
  },
  {
   "cell_type": "code",
   "execution_count": null,
   "metadata": {},
   "outputs": [],
   "source": [
    "df = pd.read_excel(Path(\"data/GCIPrawdata.xlsx\"), skiprows=2)\n",
    "df.head()"
   ]
  },
  {
   "cell_type": "markdown",
   "metadata": {},
   "source": [
    "The data is now in a pandas dataframe, which is the primary object for data analysis in Python. You can always tell the type of object you are dealing with in Python by running `type` on it:"
   ]
  },
  {
   "cell_type": "code",
   "execution_count": null,
   "metadata": {},
   "outputs": [],
   "source": [
    "type(df)"
   ]
  },
  {
   "cell_type": "markdown",
   "metadata": {},
   "source": [
    "In the data, each row represents a different country-year combination. The first row is for Afghanistan in 1980, and the first value (in the third column) is 206, for the variable Decile 1 Income. This value indicates that the mean annual income of the poorest 10% in Afghanistan was the equivalent of 206 USD (in 1980, adjusted using purchasing power parity). Looking at the next column, you can see that the mean income of the next richest 10% (those in the 11th to 20th percentiles for income) was 350.\n",
    "\n",
    "To see the list of variables, we use the `df.info()` method."
   ]
  },
  {
   "cell_type": "code",
   "execution_count": null,
   "metadata": {},
   "outputs": [],
   "source": [
    "df.info()"
   ]
  },
  {
   "cell_type": "markdown",
   "metadata": {},
   "source": [
    "In addition to the country, year, and the ten income deciles, we have mean income and the population."
   ]
  },
  {
   "cell_type": "markdown",
   "metadata": {},
   "source": [
    "## Python Walkthrough 5.2\n",
    "\n",
    "**Calculating cumulative shares using the `cumsum` function**\n",
    "\n",
    "Before we calculate cumulative income shares, we need to calculate the total income for each country-year combination using the mean income and the population size."
   ]
  },
  {
   "cell_type": "code",
   "execution_count": null,
   "metadata": {},
   "outputs": [],
   "source": [
    "df[\"total_income\"] = df[\"Mean Income\"]*df[\"Population\"]"
   ]
  },
  {
   "cell_type": "markdown",
   "metadata": {},
   "source": [
    "Here we have chosen China (a country that recently underwent enormous economic changes) and the US (a developed country). We use the `.loc` function to create a new dataset (called `xf`) containing only the countries and years we need."
   ]
  },
  {
   "cell_type": "code",
   "execution_count": null,
   "metadata": {},
   "outputs": [],
   "source": [
    "# Create lists for the years and countries we'd like\n",
    "sel_year = [1980, 2014]\n",
    "sel_country = [\"United States\", \"China\"]\n",
    "\n",
    "xf = df.loc[ (df[\"Year\"].isin(sel_year)) & (df[\"Country\"].isin(sel_country)), :]\n",
    "xf"
   ]
  },
  {
   "cell_type": "markdown",
   "metadata": {},
   "source": [
    "These numbers are very large, so for our purpose it is easier to assume that there is only one person in each decile, in other words the total income is 10 times the mean income. This simplification works because, by definition, each decile has exactly the same number of people (10% of the population).\n",
    "\n",
    "We will be using the very useful `cumsum` function (short for ‘cumulative sum’) to calculate the cumulative income. To see what this function does, look at this simple example."
   ]
  },
  {
   "cell_type": "code",
   "execution_count": null,
   "metadata": {},
   "outputs": [],
   "source": [
    "test_series = pd.Series([2, 4, 10, 22])\n",
    "test_series.cumsum()"
   ]
  },
  {
   "cell_type": "markdown",
   "metadata": {},
   "source": [
    "You can see that each number in the sequence is the sum of all the preceding numbers (including itself), for example, we got the third number, 16, by adding 2, 4, and 10. We now apply this function to calculate the cumulative income shares for China (1980) and save them as `cum_inc_share_c80`."
   ]
  },
  {
   "cell_type": "code",
   "execution_count": null,
   "metadata": {},
   "outputs": [],
   "source": [
    "query = (xf[\"Year\"] == 1980) & (xf[\"Country\"] == \"China\")\n",
    "decs_c80 = xf.loc[query, [x for x in xf.columns if \"Decile\" in x]]\n",
    "# Give the total income, assuming a population of 10\n",
    "total_inc = 10*xf.loc[query, \"Mean Income\"]\n",
    "cum_inc_share_c80 = decs_c80.cumsum() / total_inc.values[0]\n",
    "cum_inc_share_c80"
   ]
  },
  {
   "cell_type": "markdown",
   "metadata": {},
   "source": [
    "Now although this showed clearly exactly what we were doingfor China in 1980, what if we want to do it for all year-country combinations? We are able to that by defining a function:"
   ]
  },
  {
   "cell_type": "code",
   "execution_count": null,
   "metadata": {},
   "outputs": [],
   "source": [
    "def create_cumulative_income_shares(data, year, country):\n",
    "    query = (data[\"Year\"] == year) & (data[\"Country\"] == country)\n",
    "    decs = data.loc[query, [x for x in data.columns if \"Decile\" in x]]\n",
    "    # Give the total income, assuming a population of 10\n",
    "    total_inc = 10*data.loc[query, \"Mean Income\"]\n",
    "    cum_inc_share = decs.cumsum(axis=1) / total_inc.values[0]\n",
    "    cum_inc_share.index = [country + \", \" + str(year)]\n",
    "    cum_inc_share.columns = range(1, len(cum_inc_share.columns)+1)\n",
    "    return cum_inc_share\n"
   ]
  },
  {
   "cell_type": "markdown",
   "metadata": {},
   "source": [
    "Now we need to pass in all combinations of countries and years (this could be automated too, but it would only be worth it for many combinations so we'll just enter the different combinations manually):"
   ]
  },
  {
   "cell_type": "code",
   "execution_count": null,
   "metadata": {},
   "outputs": [],
   "source": [
    "cum_inc_share_c14 = create_cumulative_income_shares(xf, 2014, \"China\")\n",
    "cum_inc_share_us80 = create_cumulative_income_shares(xf, 1980, \"United States\")\n",
    "cum_inc_share_us14 = create_cumulative_income_shares(xf, 2014, \"United States\")\n",
    "cum_inc_share_c80 = create_cumulative_income_shares(xf, 1980, \"China\")"
   ]
  },
  {
   "cell_type": "markdown",
   "metadata": {},
   "source": [
    "## Python Walkthrough 5.3\n",
    "\n",
    "**Drawing Lorenz curves**\n",
    "\n",
    "Let us plot the cumulative income shares for China (1980), which we previously stored in the variable `cum_inc_share_c80`. We'll use the standard `fig, ax = plt.subplots` method of constructing an axis to plot the data on."
   ]
  },
  {
   "cell_type": "code",
   "execution_count": null,
   "metadata": {},
   "outputs": [],
   "source": [
    "fig, ax = plt.subplots()\n",
    "cum_inc_share_c80.T.plot(ax=ax)\n",
    "ax.plot(cum_inc_share_c80.columns, [x/10 for x in cum_inc_share_c80], color=\"k\")\n",
    "ax.set_ylim(0, 1)\n",
    "ax.set_xlim(1, 10)\n",
    "ax.legend([])\n",
    "ax.set_title(\"Lorenz curve, China, 1980\")\n",
    "ax.set_xlabel(\"Income Decile\")\n",
    "ax.set_ylabel(\"Cumulative income share\")\n",
    "plt.show();"
   ]
  },
  {
   "cell_type": "markdown",
   "metadata": {},
   "source": [
    "**Figure 5.1** Lorenz curve, China, 1980."
   ]
  },
  {
   "cell_type": "markdown",
   "metadata": {},
   "source": [
    "The blue line is the Lorenz curve. The Gini coefficient is the ratio of the area between the two lines and the total area under the black line. We will calculate the Gini coefficient in Python walkthrough 5.4.\n",
    "\n",
    "Now we add the other Lorenz curves to the chart using the lines function. We use the col= option to specify a different colour for each line, and the lty option to make the line pattern solid for 2014 data and dashed for 1980 data. Finally, we use the legend function to add a chart legend in the top left corner of the chart."
   ]
  },
  {
   "cell_type": "code",
   "execution_count": null,
   "metadata": {},
   "outputs": [],
   "source": [
    "fig, ax = plt.subplots()\n",
    "for line, style in zip([cum_inc_share_c80, cum_inc_share_us80, cum_inc_share_us14, cum_inc_share_c14], [\"-\", \"-.\", \"dashed\", \":\"]):\n",
    "    line.T.plot(ax=ax, linestyle=style)\n",
    "ax.plot(cum_inc_share_c80.columns, [x/10 for x in cum_inc_share_c80], color=\"k\")\n",
    "ax.set_ylim(0, 1)\n",
    "ax.set_xlim(1, 10)\n",
    "ax.set_title(\"Lorenz curves, China and the US (1980 and 2014)\")\n",
    "ax.set_xlabel(\"Income Decile\")\n",
    "ax.set_ylabel(\"Cumulative income share\")\n",
    "plt.show();"
   ]
  },
  {
   "cell_type": "markdown",
   "metadata": {},
   "source": [
    "**Figure 5.2** Lorenz curves, China and the US (1980 and 2014).\n",
    "\n",
    "As the chart shows, the income distribution has changed more clearly for China (from the orange dotted line to the purple line) than for the US (from the green dashed line to the red dash-dotted line)."
   ]
  },
  {
   "cell_type": "markdown",
   "metadata": {},
   "source": [
    "## Python Walkthroujgh 5.4\n",
    "\n",
    "**Calculating Gini coefficients**\n",
    "\n",
    "The Gini coefficient is graphically represented by dividing the area between the perfect equality line and the Lorenz curve by the total area under the perfect equality line (see [Section 5.9](https://www.core-econ.org/espp/book/text/05.html#59-measuring-economic-inequality) of *Economy, Society, and Public Policy* for further details). Let's first write a function that can compute Gini coefficients on input data. We'll call the function that calculates Gini coefficients from a vector of numbers `gini_coefficient`, and we apply it to the income deciles in our data (as seen in Python Walkthrough 5.3)."
   ]
  },
  {
   "cell_type": "code",
   "execution_count": null,
   "metadata": {},
   "outputs": [],
   "source": [
    "def gini_coefficient(x):\n",
    "    \"\"\"Compute Gini coefficient of array of values\"\"\"\n",
    "    x = np.double(x.values)\n",
    "    x = x / x.sum()\n",
    "    # Mean absolute difference\n",
    "    mad = np.abs(np.subtract.outer(x, x)).mean()\n",
    "    # Relative mean absolute difference\n",
    "    rmad = mad/np.mean(x)\n",
    "    # Gini coefficient\n",
    "    g = 0.5 * rmad\n",
    "    return g\n"
   ]
  },
  {
   "cell_type": "markdown",
   "metadata": {},
   "source": [
    "Let's now demonstrate using this on the four cases we saw earlier. As before, we'll get a helping hand by defining a function that just returns the income deciles for a given year-country pair."
   ]
  },
  {
   "cell_type": "code",
   "execution_count": null,
   "metadata": {},
   "outputs": [],
   "source": [
    "def grab_deciles_for_year_country_pair(data, year, country):\n",
    "    query = (data[\"Year\"] == year) & (data[\"Country\"] == country)\n",
    "    decs = data.loc[query, [x for x in data.columns if \"Decile\" in x]]\n",
    "    return decs\n",
    "\n",
    "\n",
    "gini_c14 = gini_coefficient(grab_deciles_for_year_country_pair(xf, 2014, \"China\"))\n",
    "gini_us80 = gini_coefficient(grab_deciles_for_year_country_pair(xf, 1980, \"United States\"))\n",
    "gini_us14 = gini_coefficient(grab_deciles_for_year_country_pair(xf, 2014, \"United States\"))\n",
    "gini_c80 = gini_coefficient(grab_deciles_for_year_country_pair(xf, 1980, \"China\"))"
   ]
  },
  {
   "cell_type": "markdown",
   "metadata": {},
   "source": [
    "Let's check one of the Gini coefficients:"
   ]
  },
  {
   "cell_type": "code",
   "execution_count": null,
   "metadata": {},
   "outputs": [],
   "source": [
    "print(f\"The Gini coefficient for the US in 1980 is {gini_c80:.2f}\")"
   ]
  },
  {
   "cell_type": "markdown",
   "metadata": {},
   "source": [
    "Now we make the same line chart as in Python Walkthrough 5.3, but use the annotate function to label curves with their respective Gini coefficients."
   ]
  },
  {
   "cell_type": "code",
   "execution_count": null,
   "metadata": {},
   "outputs": [],
   "source": [
    "fig, ax = plt.subplots()\n",
    "for line, style in zip([cum_inc_share_c80, cum_inc_share_us80, cum_inc_share_us14, cum_inc_share_c14], [\"-\", \"-.\", \"dashed\", \":\"]):\n",
    "    line.T.plot(ax=ax, linestyle=style)\n",
    "ax.plot(cum_inc_share_c80.columns, [x/10 for x in cum_inc_share_c80], color=\"k\")\n",
    "ax.set_ylim(0, 1)\n",
    "ax.set_xlim(1, 10)\n",
    "ax.set_title(\"Lorenz curves, China and the US (1980 and 2014)\")\n",
    "ax.set_xlabel(\"Income Decile\")\n",
    "ax.set_ylabel(\"Cumulative income share\")\n",
    "# Find four points along the lines to use for labels\n",
    "no_points = len(ax.lines[0].get_ydata())\n",
    "points_to_label = np.rint(np.linspace(0, no_points-1, num=4)).astype(int)\n",
    "for line, name, point in zip(ax.lines, [gini_c80, gini_us80, gini_us14, gini_c14], points_to_label):\n",
    "    y = line.get_ydata()[point]  # NB: to use start value, set [-1] to [0] instead\n",
    "    x = line.get_xdata()[point]\n",
    "    text = ax.annotate(\n",
    "        f\"{name:.2f}\",\n",
    "        xy=(x, y),\n",
    "        xytext=(x+1.5, y+0.2/x),\n",
    "        color=line.get_color(),\n",
    "        textcoords=\"data\",\n",
    "        fontweight=\"bold\",\n",
    "        backgroundcolor='white',\n",
    "        arrowprops=dict(arrowstyle=\"->\", connectionstyle=\"angle3\"),\n",
    "    )\n",
    "plt.show();"
   ]
  },
  {
   "cell_type": "markdown",
   "metadata": {},
   "source": [
    "The Gini coefficients for both countries have increased, confirming what we already saw from the Lorenz curves that in both countries the income distribution has become more unequal."
   ]
  },
  {
   "cell_type": "markdown",
   "metadata": {},
   "source": [
    "## Extension Python Walkthrough 5.5\n",
    "\n",
    "**Calculating Gini coefficients for all countries and all years**\n",
    "\n",
    "In this extension walk-through, we show you how to calculate the Gini coefficient for all countries and years in your dataset.\n",
    "\n",
    "This sounds like a tedious task, and indeed if we were to use the same method as before it would be mind-numbing. However, we have a powerful programming language at hand, and this is the time to use it.\n",
    "\n",
    "Here we use a very useful programming tool you may not have come across yet: vectorised operations. These have some analogies with `for` loops, which iterate over the same code chunk while something changes.\n",
    "\n",
    "As a reminder, this is what a for loop that prints the square of the numbers from 0 to 9 looks like:"
   ]
  },
  {
   "cell_type": "code",
   "execution_count": null,
   "metadata": {},
   "outputs": [],
   "source": [
    "for i in range(10):\n",
    "    print(i**2)"
   ]
  },
  {
   "cell_type": "markdown",
   "metadata": {},
   "source": [
    "In the above command, `range(10)` creates a vector of numbers from 0 to 9 (0, 2, 3, …, 9). The command `for i in range(10):` defines the variable i initially as 0, then iterates for everything in the given range. Here our command prints the value of $i^2$ for each value of $i$. Check that you understand the syntax above by modifying it to print only the first 5 square numbers only, or adding 2 to the numbers from 0 to 9 (instead of squaring these numbers).\n",
    "\n",
    "We can achieve a similar feat using **pandas** series and *vectorised operations*:"
   ]
  },
  {
   "cell_type": "code",
   "execution_count": null,
   "metadata": {},
   "outputs": [],
   "source": [
    "number_series = pd.Series(range(10))\n",
    "number_series.apply(lambda x: x**2)"
   ]
  },
  {
   "cell_type": "markdown",
   "metadata": {},
   "source": [
    "`apply(lambda x: x**2)` tells Python to apply the operation $x^2$ to every element in the given series.\n",
    "\n",
    "Note that, for this simple example, there is a shorter way to achieve the same effect, `number_series.pow(2)`, but for anything outside of a set of standard functions, you'll need to use `apply`.\n",
    "\n",
    "Let's now move on to computing the Gini coefficient for all country-year pairs in the dataset."
   ]
  },
  {
   "cell_type": "code",
   "execution_count": null,
   "metadata": {},
   "outputs": [],
   "source": [
    "df[\"gini\"] = df.apply(lambda row: gini_coefficient(row[[x for x in df.columns if \"Decile\" in x]]), axis=1)\n",
    "df.head()"
   ]
  },
  {
   "cell_type": "markdown",
   "metadata": {},
   "source": [
    "Using this apply approach, we have 4,799 Gini coefficients in one line. We can even look at some summary statistics for the gini column across the year-country pairs:"
   ]
  },
  {
   "cell_type": "code",
   "execution_count": null,
   "metadata": {},
   "outputs": [],
   "source": [
    "df[\"gini\"].describe().round(2)"
   ]
  },
  {
   "cell_type": "markdown",
   "metadata": {},
   "source": [
    "The average Gini coefficient is 0.46, the maximum is 0.74, and the minimum 0.18. Let’s look at these extreme cases.\n",
    "\n",
    "First we will look at the extremely equal income distributions (those with a Gini coefficient smaller than 0.20):"
   ]
  },
  {
   "cell_type": "code",
   "execution_count": null,
   "metadata": {},
   "outputs": [],
   "source": [
    "small_gini = df.loc[df[\"gini\"] < 0.2, [\"Country\", \"Year\", \"gini\"]]\n",
    "small_gini"
   ]
  },
  {
   "cell_type": "markdown",
   "metadata": {},
   "source": [
    "These correspond to eastern European countries before the fall of communism.\n",
    "\n",
    "Now the most unequal countries (those with a Gini coefficient larger than 0.73):"
   ]
  },
  {
   "cell_type": "code",
   "execution_count": null,
   "metadata": {},
   "outputs": [],
   "source": [
    "big_gini = df.loc[df[\"gini\"] > 0.73, [\"Country\", \"Year\", \"gini\"]]\n",
    "big_gini"
   ]
  },
  {
   "cell_type": "markdown",
   "metadata": {},
   "source": [
    "## Extension Python Walkthrough 5.6\n",
    "\n",
    "**Plotting time series of Gini coefficients**\n",
    "\n",
    "In this extension walk-through, we show you how to make time series plots (time on the horizontal axis, the variable of interest on the vertical axis) with Gini coefficients for a list of countries of your choice.\n",
    "\n",
    "There are many ways to plot data in Python, but the *imperative* plotting tool **matplotlib** is the most widely used (and extended). It is widely used in science and academia, most famously to help create the [first ever image of a black hole](https://numpy.org/case-studies/blackhole-image/). Although **matplotlib** is the core tool and can do almost any visualisation (if you know how), you may want to check out some other packages, with different strengths and weaknesses [here](https://aeturrell.github.io/coding-for-economists/vis-intro.html#libraries-for-data-visualisation).\n",
    "\n",
    "First we use the subset function to select a small list of countries and save their data. As an example, we have chosen four anglophone countries: the UK, the US, Ireland, and Australia."
   ]
  },
  {
   "cell_type": "code",
   "execution_count": null,
   "metadata": {},
   "outputs": [],
   "source": [
    "countries = [\"United Kingdom\", \"United States\", \"Ireland\", \"Australia\"]\n",
    "plot_df = df.loc[df[\"Country\"].isin(countries), [\"Country\", \"Year\", \"gini\"]]\n",
    "plot_df.head()"
   ]
  },
  {
   "cell_type": "markdown",
   "metadata": {},
   "source": [
    "Let's now plot these as a time series."
   ]
  },
  {
   "cell_type": "code",
   "execution_count": null,
   "metadata": {},
   "outputs": [],
   "source": [
    "fig, ax = plt.subplots()\n",
    "for country, style in zip(countries, [\"-\", \"-.\", \"dashed\", \":\"]):\n",
    "    plot_df_c = plot_df.loc[plot_df[\"Country\"] == country]\n",
    "    ax.plot(plot_df_c[\"Year\"], plot_df_c[\"gini\"], label=country, linestyle=style)\n",
    "ax.set_xlim(1970, None)\n",
    "ax.set_title(\"Gini coefficients for anglophone countries\")\n",
    "ax.set_xlabel(\"Year\")\n",
    "ax.set_ylabel(\"Gini\")\n",
    "for line, country in zip(ax.lines, countries):\n",
    "    y = line.get_ydata()[0]  # NB: to use start value, set [-1] to [0] instead\n",
    "    x = line.get_xdata()[0]\n",
    "    text = ax.annotate(\n",
    "        country,\n",
    "        xy=(x, y),\n",
    "        fontsize=8,\n",
    "        xytext=(-5, 0),\n",
    "        color=line.get_color(),\n",
    "        textcoords=\"offset points\",\n",
    "        fontweight=\"bold\",\n",
    "        ha=\"right\",\n",
    "    )\n",
    "plt.show();"
   ]
  },
  {
   "cell_type": "markdown",
   "metadata": {},
   "source": [
    "We asked **matplotlib** to use the `plot_df` dataframe, with Year on the horizontal axis (`plot_df_c[\"Year\"]`) and gini on the vertical axis (`plot_df_c[\"gini\"]`). The `style=` option indicates which variable we use to make it clear the lines are different; **matplotlib** automatically cycles through colours unless we tell it not to. (Why don't you see what happens when you change the `xytext=` options.)\n",
    "\n",
    "**matplotlib** is extremely powerful, and if you want to produce a variety of different charts, you may want to read more about that package and other packages for making different kinds of charts. You can find out more about **matplotlib** on the [official documentation](https://matplotlib.org/), and you can find a long [list of commonly used plots here](https://aeturrell.github.io/coding-for-economists/vis-common-plots.html)."
   ]
  },
  {
   "cell_type": "markdown",
   "metadata": {},
   "source": [
    "## Python Walkthrough 5.7\n",
    "\n",
    "**Importing `csv` files into Python**\n",
    "\n",
    "Before importing, make sure the `.csv` file is saved in the `data` sub-folder of your current working directory. After importing (using the `pd.read_csv` function from **pandas**), use the `df.info()` function to check that the data was imported correctly."
   ]
  },
  {
   "cell_type": "code",
   "execution_count": null,
   "metadata": {},
   "outputs": [],
   "source": [
    "df = pd.read_csv(Path(\"data/inequality-of-life-as-measured-by-mortality-gini-coefficient-1742-2002.csv\"))\n",
    "df.info()"
   ]
  },
  {
   "cell_type": "markdown",
   "metadata": {},
   "source": [
    "The variable `\"Entity\"` is the country and the variable `\"Gini coefficients for lifetime inequality (Peltzman (2009))\"` is the health Gini. Let’s change these variable names (to `\"country\"` and `\"health\"`, respectively) to clarify what they actually refer to, which will help when writing code (and if we go back to read this code at a later date)."
   ]
  },
  {
   "cell_type": "code",
   "execution_count": null,
   "metadata": {},
   "outputs": [],
   "source": [
    "df = df.rename(columns={\"Entity\": \"country\", \"Gini coefficients for lifetime inequality (Peltzman (2009))\": \"health\"})\n",
    "df.head()"
   ]
  },
  {
   "cell_type": "markdown",
   "metadata": {},
   "source": [
    "There is another quirk in the data that you may not have noticed in this initial data inspection: All countries have a short code (`\"Code\"`), except for England and Wales (currently blank `nan` in the dataframe). Let's map those onto a new code, \"ENW\", using `.fillna`."
   ]
  },
  {
   "cell_type": "code",
   "execution_count": null,
   "metadata": {},
   "outputs": [],
   "source": [
    "df[\"Code\"] = df[\"Code\"].fillna(\"ENW\")"
   ]
  },
  {
   "cell_type": "markdown",
   "metadata": {},
   "source": [
    "## Python Walkthrough 5.8\n",
    "\n",
    "**Creating line graphs with *matplotlib***\n",
    "\n",
    "As shown in Python Walkthrough 5.7, the data can be looped over in order to plot lines by country (over time). Most of the code below is similar to our use of **matplotlib** in previous walk-throughs. As there are many lines close together, we will use a legend instead of labelling lines on the chart itself. We'll also ensure that the line styles loop around enough times by multiplying them by 10.\n",
    "\n"
   ]
  },
  {
   "cell_type": "code",
   "execution_count": null,
   "metadata": {},
   "outputs": [],
   "source": [
    "countries = df[\"country\"].unique()\n",
    "fig, ax = plt.subplots()\n",
    "for country, style in zip(countries, [\"-\", \"-.\", \"dashed\", \":\"]*10):\n",
    "    plot_df_c = df.loc[df[\"country\"] == country]\n",
    "    ax.plot(plot_df_c[\"Year\"], plot_df_c[\"health\"], label=country, linestyle=style)\n",
    "ax.set_xlim(1750, 2020)\n",
    "ax.set_ylim(0, 0.6)\n",
    "ax.set_title(\"Mortality inequality in Gini coefficient\")\n",
    "ax.set_xlabel(\"Year\")\n",
    "ax.set_ylabel(\"Gini\")\n",
    "ax.legend(bbox_to_anchor=(1, 1.05))\n",
    "plt.show();"
   ]
  },
  {
   "cell_type": "markdown",
   "metadata": {},
   "source": [
    "**Figure 5.6** Mortality inequality Gini coefficients."
   ]
  },
  {
   "cell_type": "markdown",
   "metadata": {},
   "source": [
    "## Python Walkthrough 5.9\n",
    "\n",
    "**Drawing a column chart with sorted values**\n",
    "\n",
    "*Plot a column chart for 1952*\n",
    "\n",
    "First we use `.loc` to provide convenient access to the data for 1952 only, and store it in a temporary dataset called `df_52`, and then we rearrange that by the health gini."
   ]
  },
  {
   "cell_type": "code",
   "execution_count": null,
   "metadata": {},
   "outputs": [],
   "source": [
    "year = 1952\n",
    "df_subset = df.loc[df[\"Year\"]==1952]\n",
    "df_subset = df_subset.sort_values(by=\"health\")\n",
    "df_subset"
   ]
  },
  {
   "cell_type": "markdown",
   "metadata": {},
   "source": [
    "The rows are now ordered according to health, in ascending order. Let’s use **maplotlib** again for the chart."
   ]
  },
  {
   "cell_type": "code",
   "execution_count": null,
   "metadata": {},
   "outputs": [],
   "source": [
    "fig, ax = plt.subplots()\n",
    "ax.bar(df_subset[\"Code\"], df_subset[\"health\"], 0.35)\n",
    "ax.set_xlabel(\"Country code\")\n",
    "ax.set_ylabel(\"Mortality inequality Gini coefficient\")\n",
    "ax.set_title(f\"Mortality Gini ({year})\")\n",
    "plt.show()"
   ]
  },
  {
   "cell_type": "markdown",
   "metadata": {},
   "source": [
    "**Figure 5.7** Mortality Gini coefficients (1952)."
   ]
  },
  {
   "cell_type": "markdown",
   "metadata": {},
   "source": [
    "*Plot a column chart for 2002*\n",
    "\n",
    "Now we'd like to do the same for 2002. Rather than re-specify everything, we can write a function that accepts a year, and our data, and does this for us for arbitrary years."
   ]
  },
  {
   "cell_type": "code",
   "execution_count": null,
   "metadata": {},
   "outputs": [],
   "source": [
    "def plot_bar_chart_health_gini(data, year):\n",
    "    df_subset = data.loc[data[\"Year\"]==year]\n",
    "    df_subset = df_subset.sort_values(by=\"health\")\n",
    "    fig, ax = plt.subplots()\n",
    "    ax.bar(df_subset[\"Code\"], df_subset[\"health\"], 0.35)\n",
    "    ax.set_xlabel(\"Country code\")\n",
    "    ax.set_ylabel(\"Mortality inequality Gini coefficient\")\n",
    "    ax.set_title(f\"Mortality Gini ({year})\")\n",
    "    plt.show()"
   ]
  },
  {
   "cell_type": "markdown",
   "metadata": {},
   "source": [
    "Now let's use it on 2002:"
   ]
  },
  {
   "cell_type": "code",
   "execution_count": null,
   "metadata": {},
   "outputs": [],
   "source": [
    "plot_bar_chart_health_gini(df, 2002)"
   ]
  },
  {
   "cell_type": "markdown",
   "metadata": {},
   "source": [
    "**Figure 5.9** Mortality Gini coefficients (2002)."
   ]
  },
  {
   "cell_type": "markdown",
   "metadata": {},
   "source": [
    "Let's now plot both years in a split bar chart design. To ensure we get both years in the same order, we'll use the 1952 order, declare that the country column is an ordered categorical variable, and then sort the values by that order."
   ]
  },
  {
   "cell_type": "code",
   "execution_count": null,
   "metadata": {},
   "outputs": [],
   "source": [
    "countries_in_order = df.loc[df[\"Year\"]==1952, :].sort_values(by=\"health\")[\"country\"]\n",
    "df[\"country\"] = df[\"country\"].astype(\"category\")\n",
    "df[\"country\"] = df[\"country\"].cat.set_categories(countries_in_order)\n",
    "df = df.sort_values(by=\"country\")\n",
    "df.head()"
   ]
  },
  {
   "cell_type": "markdown",
   "metadata": {},
   "source": [
    "Now we can plot both years:"
   ]
  },
  {
   "cell_type": "code",
   "execution_count": null,
   "metadata": {},
   "outputs": [],
   "source": [
    "x = np.arange(len(df[\"Code\"].unique()))  # the label locations\n",
    "year1, year2 = 1952, 2002\n",
    "width = 0.35  # the width of the bars\n",
    "\n",
    "fig, ax = plt.subplots()\n",
    "ax.bar(x - width / 2, df.loc[df[\"Year\"] == year1, \"health\"], width, label=str(year1))\n",
    "ax.bar(x + width / 2, df.loc[df[\"Year\"] == year2, \"health\"], width, label=str(year2))\n",
    "# Add some text for labels, title and custom x-axis tick labels, etc.\n",
    "ax.set_ylabel(\"Yield\")\n",
    "ax.set_xticks(x)\n",
    "ax.set_xticklabels(df[\"Code\"].unique())\n",
    "ax.legend(frameon=False)\n",
    "ax.set_xlabel(\"Country code\")\n",
    "ax.set_ylabel(\"Mortality inequality Gini coefficient\")\n",
    "ax.set_title(f\"Mortality Gini, {year1} vs {year2}\")\n",
    "ax.set_xlim(-width, len(x))\n",
    "plt.show()"
   ]
  },
  {
   "cell_type": "markdown",
   "metadata": {},
   "source": [
    "**Figure 5.10** Mortality Gini coefficients (1952 and 2002)."
   ]
  },
  {
   "cell_type": "markdown",
   "metadata": {},
   "source": [
    "## Python Walkthrough 5.10\n",
    "\n",
    "**Drawing a column chart with sorted values**\n",
    "\n",
    "For this walkthrough, we downloaded the \"Median availability of selected generic medicines\" data, which you can find [here](https://apps.who.int/gho/data/view.main.660). We saved it as the default name \"MDG_0000000010,WHS6_101.csv\", in the data subdirectory of our working directory. Looking at the spreadsheet in Excel, Numbers, OpenOffice, or LibreOffice, you can see that the actual data starts in the third row, meaning that there are two header rows. So let’s skip the first row when opening it."
   ]
  },
  {
   "cell_type": "code",
   "execution_count": null,
   "metadata": {},
   "outputs": [],
   "source": [
    "df = pd.read_csv(Path(\"data/MDG_0000000010,WHS6_101.csv\"), skiprows=1)\n",
    "df.head()"
   ]
  },
  {
   "cell_type": "markdown",
   "metadata": {},
   "source": [
    "Having inspected the dataset in a spreadsheet programme and opened it with **pandas**, we know that the 2nd and 3rd columns don't have particularly informative column names. From the spreadsheet, you know that they should related to \"Private access %\" and \"Public access %\", respectively. So let's rename the columns to give them the right labels.\n",
    "\n",
    "The columns of a dataframe, `df.columns`, are *immutable*, meaning we cannot change individual entries with an assignment statetment (using `=`), but we can either use the `.rename` method or replace all the column names. Here, it's more convenient to replace all the column names:"
   ]
  },
  {
   "cell_type": "code",
   "execution_count": null,
   "metadata": {},
   "outputs": [],
   "source": [
    "df.columns = [\"country\", \"private_access\", \"public_access\"]\n",
    "df[\"country\"] = df[\"country\"].astype(\"category\")\n",
    "df.head(2)"
   ]
  },
  {
   "cell_type": "markdown",
   "metadata": {},
   "source": [
    "To find details about these variables, click the column headers of the tables shown on the website. You can see, for example, that \"Median availability of selected generic medicines (%)\" has a method of measurement given by:\n",
    "\n",
    "> A standard methodology has been  developed by WHO and Health Action International (HAI). Data on the availability of a specific list of medicines are collected in at least four geographic or administrative areas in a sample of medicine dispensing points. Availability is reported as the percentage of medicine outlets where a medicine was found on the day of the survey.\n",
    "\n",
    "Before we produce charts of the data, let's look at some summary measures of the variables using the **skimpy** package. You may need to install this package to use it (you can do this by running `pip install skimpy` on your computer's command line)."
   ]
  },
  {
   "cell_type": "code",
   "execution_count": null,
   "metadata": {},
   "outputs": [],
   "source": [
    "from skimpy import skim\n",
    "\n",
    "skim(df)"
   ]
  },
  {
   "cell_type": "markdown",
   "metadata": {},
   "source": [
    "On average, private sector patients have better access to generic medication.\n",
    "\n",
    "From the summary statistics for the \"public_access\" variable, you can see that there are two missing observations. Here, we will keep these observations because leaving them in doesn’t affect the following analysis.\n",
    "\n",
    "There are a number of interesting aspects to look at. We shall produce a bar chart comparing the private and public access in countries, ordered according to values of private access (largest to smallest). First, we need to reformat the data into ‘long’ format (so there is a single variable containing all the values we want to plot), then use **matplotlib** to make the chart."
   ]
  },
  {
   "cell_type": "code",
   "execution_count": null,
   "metadata": {},
   "outputs": [],
   "source": [
    "df = df.sort_values(by=\"private_access\")\n",
    "melt_df = pd.melt(df, id_vars=\"country\", value_name=\"percent\", var_name=\"access\")\n",
    "melt_df.head()"
   ]
  },
  {
   "cell_type": "code",
   "execution_count": null,
   "metadata": {},
   "outputs": [],
   "source": [
    "y = np.arange(len(melt_df[\"country\"].unique()))  # the label locations\n",
    "width = 0.3  # the width of the bars\n",
    "\n",
    "fig, ax = plt.subplots(figsize=(6, 10))\n",
    "ax.barh(y - width / 2, melt_df.loc[melt_df[\"access\"] == \"private_access\", \"percent\"], width, label=\"Private\")\n",
    "ax.barh(y + width / 2, melt_df.loc[melt_df[\"access\"] == \"public_access\", \"percent\"], width, label=\"Public\")\n",
    "# Add some text for labels, title and custom x-axis tick labels, etc.\n",
    "ax.set_ylabel(\"Country\")\n",
    "ax.set_yticks(y)\n",
    "ax.set_yticklabels(melt_df[\"country\"].unique())\n",
    "ax.legend(frameon=False)\n",
    "ax.set_xlabel(\"Percent of patients with access to generic medication\")\n",
    "ax.set_title(f\"Access to generic medication\")\n",
    "ax.set_ylim(-width, len(y))\n",
    "ax.set_xlim(0, 100)\n",
    "plt.show()"
   ]
  },
  {
   "cell_type": "markdown",
   "metadata": {},
   "source": [
    "**Figure 5.11** Access to essential medication."
   ]
  },
  {
   "cell_type": "markdown",
   "metadata": {},
   "source": [
    "Let’s find the extreme values, starting with the two countries where public sector patients have access to all (100%) essential medications (which you can also see in the chart)."
   ]
  },
  {
   "cell_type": "code",
   "execution_count": null,
   "metadata": {},
   "outputs": [],
   "source": [
    "df.loc[df[\"public_access\"] == 100, :]"
   ]
  },
  {
   "cell_type": "markdown",
   "metadata": {},
   "source": [
    "Let’s see which countries provide 0% access to essential medication for people in the public sector."
   ]
  },
  {
   "cell_type": "code",
   "execution_count": null,
   "metadata": {},
   "outputs": [],
   "source": [
    "df.loc[df[\"public_access\"] == 0, :]"
   ]
  },
  {
   "cell_type": "markdown",
   "metadata": {},
   "source": [
    "## Python Walkthrough 5.11\n",
    "\n",
    "**Using line and bar charts to illustrate changes in time**\n",
    "\n",
    "*Import data and plot a line chart*\n",
    "\n",
    "First we download [data on the gender gap in primary education](https://ourworldindata.org/educational-mobility-inequality#in-primary-education) from Our World In Data and save it in a subdirectory of our working directory called \"data/\". To find the data on the Our World In Data website, click on the download button under the chart. Now let's import it into our Python session and check the structure:"
   ]
  },
  {
   "cell_type": "code",
   "execution_count": null,
   "metadata": {},
   "outputs": [],
   "source": [
    "# Open the csv file from the data directory\n",
    "\n",
    "df = pd.read_csv(Path(\"data/gender-gap-in-primary-education.csv\"))\n",
    "df.info()"
   ]
  },
  {
   "cell_type": "markdown",
   "metadata": {},
   "source": [
    "The data is now in the dataframe `df`. The variable of interest, `\"Primary education, pupils (% female)\"`, has a very long name so we will shorten it to `\"PFE\"`."
   ]
  },
  {
   "cell_type": "code",
   "execution_count": null,
   "metadata": {},
   "outputs": [],
   "source": [
    "df = df.rename(columns={\"Primary education, pupils (% female)\": \"PFE\"})"
   ]
  },
  {
   "cell_type": "markdown",
   "metadata": {},
   "source": [
    "As usual, ensure that you understand the definition of the variables you are using. In the Our World in Data website, look at the ‘Sources’ tab underneath the graph for a definition:\n",
    "\n",
    "> Female pupils as a percentage of total pupils at primary level include enrollments in public and private schools...percentage of female enrollment is calculated by dividing the total number of female students at a given level of education by the total enrollment at the same level, and multiplying by 100.\n",
    "\n",
    "This definition implies that if the primary-school-age population was 50% male and 50% female and all children were enrolled in school, the female enrolment would be 50%.\n",
    "\n",
    "Before choosing ten countries, we check which countries (`\"Entity\"`) are in the dataset using the unique function. Here we also use the random choice function, `np.random.choice`, from **numpy** to only show the first ten countries."
   ]
  },
  {
   "cell_type": "code",
   "execution_count": null,
   "metadata": {},
   "outputs": [],
   "source": [
    "np.random.choice(df[\"Entity\"].unique(), 10)"
   ]
  },
  {
   "cell_type": "markdown",
   "metadata": {},
   "source": [
    "You can find nearly all the countries in the world in this list (plus some sub- and supra-country entities, like OECD countries, which explains why the variable wasn’t initially called ‘Country’)."
   ]
  },
  {
   "cell_type": "markdown",
   "metadata": {},
   "source": [
    "*Plot a line chart for a selection of countries*\n",
    "\n",
    "We now make a selection of ten countries. (You can of course make a different selection, but ensure that you get the spelling right!)."
   ]
  },
  {
   "cell_type": "code",
   "execution_count": null,
   "metadata": {},
   "outputs": [],
   "source": [
    "countries_to_select = [\"Albania\", \"China\", \"France\", \"India\", \"South Korea\", \"Switzerland\", \"United Arab Emirates\", \"United Kingdom\", \"Zambia\", \"Norway\"]\n",
    "\n",
    "df_sub = df[df[\"Entity\"].isin(countries_to_select)]"
   ]
  },
  {
   "cell_type": "markdown",
   "metadata": {},
   "source": [
    "Now we plot the data, following similar steps to earlier in the chapter, in Python Walkthrough 5.8."
   ]
  },
  {
   "cell_type": "code",
   "execution_count": null,
   "metadata": {},
   "outputs": [],
   "source": [
    "fig, ax = plt.subplots()\n",
    "for country, style in zip(countries_to_select, [\"-\", \"-.\", \"dashed\", \":\"]*10):\n",
    "    plot_df_c = df_sub.loc[df_sub[\"Entity\"] == country]\n",
    "    ax.plot(plot_df_c[\"Year\"], plot_df_c[\"PFE\"], label=country, linestyle=style)\n",
    "ax.set_xlim(df_sub[\"Year\"].min(), df_sub[\"Year\"].max())\n",
    "ax.set_title(\"Female pupils\\n(% enrolment in primary education)\")\n",
    "ax.set_xlabel(\"Year\")\n",
    "ax.set_ylabel(\"Percent\")\n",
    "ax.legend(bbox_to_anchor=(1, 1), frameon=False)\n",
    "plt.show();"
   ]
  },
  {
   "cell_type": "markdown",
   "metadata": {},
   "source": [
    "*Figure 5.12* Female pupils as a percentage of total enrolment in primary education."
   ]
  },
  {
   "cell_type": "markdown",
   "metadata": {},
   "source": [
    "*Plot a column chart with sorted values*\n",
    "\n",
    "To calculate the change in the value of this measure between 1980 and 2010 for each country chosen, we have to manipulate the data so that we have one entry (row) for each entity (or country), but two different variables for the percentage of female enrolment `\"PFE\"` (one for each year).\n",
    "\n",
    "We'll do this using the `pd.pivot` function to pivot years to columns; then we can subtract one year from another before filtering to just the columns we want."
   ]
  },
  {
   "cell_type": "code",
   "execution_count": null,
   "metadata": {},
   "outputs": [],
   "source": [
    "df_sub_piv = pd.pivot(df_sub, [\"Entity\", \"Code\"], columns=[\"Year\"], values='PFE')\n",
    "# Note that existing column titles are integers\n",
    "df_sub_piv[\"2010—1980\"] = df_sub_piv[2010] - df_sub_piv[1980]\n",
    "# Filter to our new column and re-number index\n",
    "df_sub_piv = df_sub_piv[\"2010—1980\"].reset_index()\n",
    "# Sort rows by size of gap\n",
    "df_sub_piv = df_sub_piv.sort_values(by=\"2010—1980\")\n",
    "df_sub_piv.head()"
   ]
  },
  {
   "cell_type": "markdown",
   "metadata": {},
   "source": [
    "Now we can plot this as a bar chart by country."
   ]
  },
  {
   "cell_type": "code",
   "execution_count": null,
   "metadata": {},
   "outputs": [],
   "source": [
    "fig, ax = plt.subplots()\n",
    "ax.bar(df_sub_piv[\"Code\"], df_sub_piv[\"2010—1980\"], 1, alpha=0.8)\n",
    "ax.set_xlabel(\"Country code\")\n",
    "ax.set_ylabel(\"Percentage points\")\n",
    "ax.set_title(\"Change in female pupils’ share of total enrolment in\\nprimary education\", size=12)\n",
    "ax.annotate('Source: https://ourworldindata.org/educational-mobility-inequality#in-primary-education', (0, 0), (-20, -40), fontsize=6, \n",
    "             xycoords='axes fraction', textcoords='offset points', va='top', ha=\"left\")\n",
    "plt.show()"
   ]
  },
  {
   "cell_type": "markdown",
   "metadata": {},
   "source": [
    "*Figure 5.13* Change in percentage of female enrolment in primary school from 1980 to 2010.\n",
    "\n",
    "It is apparent that some countries saw very little or no change (the countries that already had very high PFE). The countries with initially low female participation have significantly improved."
   ]
  }
 ],
 "metadata": {
  "interpreter": {
   "hash": "13950ff975ea58bb356510d0d8f98cdd1bd1f12bd4ccce66a17a21f4f1a23379"
  },
  "kernelspec": {
   "display_name": "Python 3.9.7 64-bit ('core-python-wDU3726x-py3.9': poetry)",
   "name": "python3"
  },
  "language_info": {
   "codemirror_mode": {
    "name": "ipython",
    "version": 3
   },
   "file_extension": ".py",
   "mimetype": "text/x-python",
   "name": "python",
   "nbconvert_exporter": "python",
   "pygments_lexer": "ipython3",
   "version": "3.8.8"
  }
 },
 "nbformat": 4,
 "nbformat_minor": 2
}
